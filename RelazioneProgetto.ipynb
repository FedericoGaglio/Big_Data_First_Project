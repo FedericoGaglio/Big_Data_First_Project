{
  "nbformat": 4,
  "nbformat_minor": 0,
  "metadata": {
    "colab": {
      "name": "RelazioneProgetto.ipynb",
      "provenance": [],
      "collapsed_sections": [
        "shCKKatJJKtr",
        "7SvyuEtIL5yj"
      ],
      "toc_visible": true
    },
    "kernelspec": {
      "display_name": "Python 3",
      "language": "python",
      "name": "python3"
    },
    "language_info": {
      "codemirror_mode": {
        "name": "ipython",
        "version": 3
      },
      "file_extension": ".py",
      "mimetype": "text/x-python",
      "name": "python",
      "nbconvert_exporter": "python",
      "pygments_lexer": "ipython3",
      "version": "3.8.2"
    }
  },
  "cells": [
    {
      "cell_type": "markdown",
      "metadata": {
        "colab_type": "text",
        "id": "eY54s4xJJyeH"
      },
      "source": [
        "# **Relazione finale**\n",
        "\n",
        "**Gruppo**: BigCovid\n",
        "\n",
        "**Componenti del gruppo**: Alessio Verdolini, Federico Gaglio\n",
        "\n",
        "<br>\n"
      ]
    },
    {
      "cell_type": "markdown",
      "metadata": {
        "colab_type": "text",
        "id": "9EkFKU-fKOwg"
      },
      "source": [
        "1. **Analisi del dataset**\n",
        "\n",
        "2. **Commons**\n",
        "\n",
        "3. **Primo job**\n",
        "\n",
        "  3.1 *MapReduce*\n",
        "  \n",
        "  3.2 *Hive*\n",
        "\n",
        "  3.3 *Spark*\n",
        "\n",
        "  3.4 *Risultati*\n",
        "\n",
        "  3.5 *Grafici*\n",
        "  \n",
        "\n",
        "4. **Secondo job**\n",
        "\n",
        "  4.1 *MapReduce*\n",
        "\n",
        "  4.2 *Hive*\n",
        "\n",
        "  4.3 *Spark*\n",
        "\n",
        "  4.4 *Risultati*\n",
        "\n",
        "  4.5 *Grafici*\n",
        "  \n",
        "5. **Terzo job**\n",
        "\n",
        "  5.1 *MapReduce*\n",
        "\n",
        "  5.2 *Hive*\n",
        "\n",
        "  5.3 *Spark*\n",
        "\n",
        "  5.4 *Risultati*\n",
        "\n",
        "  5.5 *Grafici*"
      ]
    },
    {
      "cell_type": "markdown",
      "metadata": {
        "colab_type": "text",
        "id": "3_aWQFFaKmQB"
      },
      "source": [
        "## 1. Analisi del dataset"
      ]
    },
    {
      "cell_type": "markdown",
      "metadata": {
        "id": "lt_-JvS7I21L",
        "colab_type": "text"
      },
      "source": [
        "## 2. Commons"
      ]
    },
    {
      "cell_type": "markdown",
      "metadata": {
        "id": "shCKKatJJKtr",
        "colab_type": "text"
      },
      "source": [
        "### 2.1 Grafici\n"
      ]
    },
    {
      "cell_type": "code",
      "metadata": {
        "id": "99SGIOXU1iXn",
        "colab_type": "code",
        "colab": {}
      },
      "source": [
        "import matplotlib\n",
        "import matplotlib.pyplot as plt\n",
        "import csv\n",
        "\n",
        "CSV_PATH='time-execute/'\n",
        "\n",
        "\n",
        "def draw_plot(job_number):\n",
        "    LOCAL = CSV_PATH+'local_'+str(job_number)+'.csv'\n",
        "    CLUSTER = CSV_PATH+'cluster_'+str(job_number)+'.csv'\n",
        "    \n",
        "    dataset={}\n",
        "    data_local = {}\n",
        "    data_cluster = {}\n",
        "    \n",
        "    with open(LOCAL,'r') as csvfile:\n",
        "        plots = csv.reader(csvfile, delimiter=',')\n",
        "        for row in plots:\n",
        "            job, *times=row\n",
        "            data_local[job]=[float(x) for x in times]\n",
        "        dataset[0] = {\n",
        "            'name': \"Locale\",\n",
        "            'time': data_local\n",
        "        }\n",
        "    \n",
        "    with open(CLUSTER,'r') as csvfile:\n",
        "        plots = csv.reader(csvfile, delimiter=',')\n",
        "        for row in plots:\n",
        "            job, *times=row\n",
        "            data_cluster[job]=[float(x) for x in times]\n",
        "        dataset[1] = {\n",
        "            'name': \"Cluster\",\n",
        "            'time': data_cluster\n",
        "        }\n",
        "        \n",
        "    plot, axs = plt.subplots(1, 2, figsize=(15, 5))\n",
        "\n",
        "    for i in range(0,2):\n",
        "        axs[i].plot(dataset[i]['time']['dim'], dataset[i]['time']['1'], color='tab:blue', marker='o')\n",
        "        axs[i].plot(dataset[i]['time']['dim'], dataset[i]['time']['2'], color='tab:orange', marker='o')\n",
        "        axs[i].plot(dataset[i]['time']['dim'], dataset[i]['time']['3'], color='tab:green', marker='o')\n",
        "        \n",
        "        axs[i].set_title(dataset[i]['name'])\n",
        "        axs[i].set_xlabel('Dimensione (MB)')\n",
        "        axs[i].set_ylabel('Tempo (s)')\n",
        "        axs[i].grid(alpha=0.4)\n",
        "        axs[i].legend(['MapReduce', 'Hive', 'Spark'])"
      ],
      "execution_count": 0,
      "outputs": []
    },
    {
      "cell_type": "markdown",
      "metadata": {
        "id": "xCBhip624PLS",
        "colab_type": "text"
      },
      "source": [
        ""
      ]
    },
    {
      "cell_type": "markdown",
      "metadata": {
        "id": "ANnto2Xv4Uib",
        "colab_type": "text"
      },
      "source": [
        "### 2.2 Oggetti MapReduce"
      ]
    },
    {
      "cell_type": "markdown",
      "metadata": {
        "id": "ACYoVwmQ4jyM",
        "colab_type": "text"
      },
      "source": [
        "**AverageObject**\n",
        "\n",
        "Oggetto utilizzato per disaccoppiare la logica dal calcolo della media."
      ]
    },
    {
      "cell_type": "code",
      "metadata": {
        "id": "M0Iwdpec4kV7",
        "colab_type": "code",
        "colab": {}
      },
      "source": [
        "class AverageObject:\n",
        "\n",
        "    def __init__(self, value=0.0):\n",
        "        self.value = value\n",
        "        self.count = 1 if value else 0\n",
        "\n",
        "    def add(self, value):\n",
        "        self.value += value\n",
        "        self.count += 1\n",
        "        \n",
        "    def avg(self):\n",
        "        return self.value / self.count\n"
      ],
      "execution_count": 0,
      "outputs": []
    },
    {
      "cell_type": "markdown",
      "metadata": {
        "id": "XTTs0OFq512t",
        "colab_type": "text"
      },
      "source": [
        "**Record**\n",
        "\n",
        "Oggetto utilizzato per memorizzare, utilizzando tre differenti istanze di AverageObject, i seguenti valori:\n",
        "\n",
        "1. *Volume medio*\n",
        "\n",
        "2. *Variazione percentuale media*\n",
        "\n",
        "3. *Variazione media giornaliera*\n"
      ]
    },
    {
      "cell_type": "code",
      "metadata": {
        "id": "8XjGCNCu52cW",
        "colab_type": "code",
        "colab": {}
      },
      "source": [
        "class Record:\n",
        "\n",
        "    def __init__(self):\n",
        "        self.avg_year_volume = AverageObject()\n",
        "        self.avg_year_change_company = AverageObject()\n",
        "        self.avg_daily_price = AverageObject()\n",
        "\n",
        "    def add_volume(self, volume):\n",
        "        self.avg_year_volume.add(volume)\n",
        "\n",
        "    def add_year_change(self, year_change):\n",
        "        self.avg_year_change_company.add(year_change)\n",
        "        \n",
        "    def add_daily_price(self, daily_price):\n",
        "        self.avg_daily_price.add(daily_price)"
      ],
      "execution_count": 0,
      "outputs": []
    },
    {
      "cell_type": "markdown",
      "metadata": {
        "id": "jrcaNpes6AHm",
        "colab_type": "text"
      },
      "source": [
        "**Sector**\n",
        "\n",
        "Oggetto che memorizza il nome del settore e, per ogni anno, i tre parametri richiesti dall'esercizio.\n",
        "\n",
        "Per la memorizzazione dei parametri utilizziamo un dizionario con chiave anno e valore un oggetto **Record**."
      ]
    },
    {
      "cell_type": "code",
      "metadata": {
        "id": "fYRy3Jhf6Ahg",
        "colab_type": "code",
        "colab": {}
      },
      "source": [
        "class Sector:\n",
        "\n",
        "    def __init__(self, name):\n",
        "        self.name = name\n",
        "        self.year_2_record = {}\n",
        "        \n",
        "    def update(self, year, volume, year_change, daily_price):\n",
        "        if not (year in self.year_2_record):\n",
        "            self.year_2_record[year] = Record()\n",
        "        self.year_2_record[year].add_volume(volume)\n",
        "        self.year_2_record[year].add_year_change(year_change)\n",
        "        self.year_2_record[year].add_daily_price(daily_price)"
      ],
      "execution_count": 0,
      "outputs": []
    },
    {
      "cell_type": "markdown",
      "metadata": {
        "id": "JER6RPBk6LmB",
        "colab_type": "text"
      },
      "source": [
        "**Company**\n",
        "\n",
        "Oggetto utilizzato per memorizzare il nome dell'azienda e le rispettive variazioni di quotazione annuali degli ultimi tre anni."
      ]
    },
    {
      "cell_type": "code",
      "metadata": {
        "id": "LeW9FjcQ6L6Y",
        "colab_type": "code",
        "colab": {}
      },
      "source": [
        "class Company:\n",
        "  \n",
        "    def __init__(self, name):\n",
        "        self.name = name\n",
        "        self.change_year = {}"
      ],
      "execution_count": 0,
      "outputs": []
    },
    {
      "cell_type": "markdown",
      "metadata": {
        "colab_type": "text",
        "id": "A4X_apcCLRAr"
      },
      "source": [
        "## 3. Primo job"
      ]
    },
    {
      "cell_type": "markdown",
      "metadata": {
        "colab_type": "text",
        "id": "6-VqYcxiLbRD"
      },
      "source": [
        "### 3.1 Map Reduce"
      ]
    },
    {
      "cell_type": "markdown",
      "metadata": {
        "colab_type": "text",
        "id": "P3zsh-00MVvW"
      },
      "source": [
        "Un job che sia in grado di generare le statistiche di ciascuna azione tra il 2008 e il 2018 indicando, per ogni azione: (a) il simbolo, (b) la variazione della quotazione (differenza percentuale arrotondata tra i prezzi di chiusura iniziale e finale dell’intervallo temporale), (c) il prezzo minimo, (e) quello massimo e (f) il volume medio nell’intervallo, ordinando l’elenco in ordine decrescente di variazione della quotazione."
      ]
    },
    {
      "cell_type": "markdown",
      "metadata": {
        "colab_type": "text",
        "id": "rldEP3s1WEz7"
      },
      "source": [
        "**Config**\n",
        "\n",
        "Usiamo campi come chiavi: *ticker* come chiave primaria usata per aggregare \n",
        " i dati da passare al reducer e *date* per effettuare l'ordinamento secondario sui valori delle date."
      ]
    },
    {
      "cell_type": "code",
      "metadata": {
        "colab_type": "code",
        "id": "ssVLEvu_WEz9",
        "colab": {}
      },
      "source": [
        "-D stream.num.map.output.key.fields=2 \n",
        "-D mapreduce.job.reduces=1 "
      ],
      "execution_count": 0,
      "outputs": []
    },
    {
      "cell_type": "markdown",
      "metadata": {
        "colab_type": "text",
        "id": "aehhdGReMjk3"
      },
      "source": [
        "**Mapper**\n",
        "\n",
        "\n",
        "In fase di mapping estraiamo da ciascun record i campi *ticker*, *date*, *close*, *volume*."
      ]
    },
    {
      "cell_type": "code",
      "metadata": {
        "colab_type": "code",
        "id": "AW2bhaklM1VU",
        "colab": {}
      },
      "source": [
        "#PSEUDO MAPPER\n",
        "\n",
        "class Mapper:\n",
        "\n",
        "  for line in file.csv\n",
        "\n",
        "    extract ticker, close, volume, date from file.csv\n",
        "    \n",
        "    if year in (2008, 2018)\n",
        "      send to reducer ticker, data, close, volume"
      ],
      "execution_count": 0,
      "outputs": []
    },
    {
      "cell_type": "markdown",
      "metadata": {
        "colab_type": "text",
        "id": "F5DBfL0RNreM"
      },
      "source": [
        "**Reducer**\n",
        "\n",
        "In fase di reducing, dopo aver estratto i valori passati dal mapper, andiamo a calcolare i punti definiti nell'hw; in particolare per il calcolo del volume abbiamo creato un oggetto(avgVolume) per semplificarci il calcolo."
      ]
    },
    {
      "cell_type": "code",
      "metadata": {
        "colab_type": "code",
        "id": "SjWDtXqkNreS",
        "colab": {}
      },
      "source": [
        "#PSEUDO REDUCER\n",
        "\n",
        "class Reducer:\n",
        "  \n",
        "  define AvgVolume object\n",
        "\n",
        "  for line in mapper output\n",
        "\n",
        "    extract ticker, year, close, volume\n",
        "\n",
        "    percentage_change = ((close_price_final_value - close_price_starting_value) / close_price_starting_value) * 100\n",
        "    min_price = min(close)\n",
        "    max_price = max(close)\n",
        "    avg_volume = avg(volume)\n",
        "    \n",
        "    sorting values based on percentage_change key"
      ],
      "execution_count": 0,
      "outputs": []
    },
    {
      "cell_type": "markdown",
      "metadata": {
        "colab_type": "text",
        "id": "feSqmC19LrGR"
      },
      "source": [
        "### 3.2 Hive"
      ]
    },
    {
      "cell_type": "markdown",
      "metadata": {
        "colab_type": "text",
        "id": "Osbq94IkOtMb"
      },
      "source": [
        "**Implementazione Hive**\n",
        "\n",
        "---\n",
        "\n",
        "```\n",
        "ticker_min_max_avg(ticker, min_price, max_price, avg_volume) \n",
        "```\n",
        "\n",
        ">**min_price:** *Valore minimo di chiusura*\n",
        "<br>\n",
        ">**max_price:** *Valore massimo di chiusura*\n",
        "<br>\n",
        ">**avg_volume:** *Volume medio nell'intervallo*\n",
        "\n",
        "<br>\n",
        "\n",
        "```\n",
        "ticker_first_last_data(ticker, first_data, last_data) \n",
        "```\n",
        "\n",
        ">**first_data:** *La prima data in cui è stato quotato il ticker*\n",
        "<br>\n",
        ">**last_data:** *L'ultima data in cui è stato quotato il ticker*\n",
        "\n",
        "<br>\n",
        "\n",
        "```\n",
        "ticker_close_first_data(ticker, data, first_price) \n",
        "```\n",
        ">**first_price**: *Valore iniziale di chiusura*\n",
        "\n",
        "<br>\n",
        "\n",
        "```\n",
        "ticker_close_last_data(ticker, data, last_price) \n",
        "```\n",
        ">**last_price**: *Valore finale di chiusura*\n",
        "\n",
        "<br>\n",
        "\n",
        "```\n",
        "ticker_percentage(ticker, inc_per) \n",
        "```\n",
        ">**inc_per**: *Variazione di quotazione (((last_price-first_price)/first_price)x100)*\n"
      ]
    },
    {
      "cell_type": "markdown",
      "metadata": {
        "id": "OR_Co2jVghwk",
        "colab_type": "text"
      },
      "source": [
        "```sql\n",
        "CREATE TABLE IF NOT EXISTS ticker_min_max_avg AS\n",
        "SELECT ticker, min(close) AS min_price, max(close) AS max_price, avg(volume) AS avg_volume\n",
        "FROM historical_stock_prices\n",
        "WHERE YEAR(data)>=2008 AND YEAR(data)<=2018\n",
        "GROUP BY ticker;\n",
        "\n",
        "CREATE TABLE IF NOT EXISTS ticker_first_last_data AS\n",
        "SELECT ticker, min(TO_DATE(data)) AS first_data, max(TO_DATE(data)) AS last_data\n",
        "FROM historical_stock_prices\n",
        "WHERE YEAR(data)>=2008 AND YEAR(data)<=2018\n",
        "GROUP BY ticker;\n",
        "\n",
        "CREATE TABLE IF NOT EXISTS ticker_close_first_data AS\n",
        "SELECT h.ticker, h.data, h.close AS first_price\n",
        "FROM ticker_first_last_data AS t\n",
        "JOIN historical_stock_prices AS h\n",
        "ON h.ticker=t.ticker AND h.data=t.first_data;\n",
        "\n",
        "CREATE TABLE IF NOT EXISTS ticker_close_last_data AS\n",
        "SELECT h.ticker, h.data, h.close AS last_price\n",
        "FROM ticker_first_last_data AS t\n",
        "JOIN historical_stock_prices AS h\n",
        "ON h.ticker=t.ticker AND h.data=t.last_data;\n",
        "\n",
        "CREATE TABLE IF NOT EXISTS ticker_percentage AS\n",
        "SELECT fc.ticker, (((lc.last_price-fc.first_price)/fc.first_price) * 100) AS inc_per\n",
        "FROM ticker_close_last_data AS lc\n",
        "JOIN ticker_close_first_data AS fc\n",
        "ON lc.ticker=fc.ticker;\n",
        "\n",
        "CREATE TABLE IF NOT EXISTS result_job_1 AS \n",
        "SELECT t.ticker, p.inc_per, t.min_price, t.max_price, t.avg_volume\n",
        "FROM ticker_min_max_avg AS t\n",
        "JOIN ticker_percentage AS p\n",
        "ON t.ticker=p.ticker \n",
        "ORDER BY p.inc_per DESC limit 10;\n",
        "```"
      ]
    },
    {
      "cell_type": "markdown",
      "metadata": {
        "colab_type": "text",
        "id": "7SvyuEtIL5yj"
      },
      "source": [
        "### 3.3 Spark"
      ]
    },
    {
      "cell_type": "markdown",
      "metadata": {
        "colab_type": "text",
        "id": "z4kd81-6PtBN"
      },
      "source": [
        "**Implementazione Spark**\n",
        "\n",
        "In fase di mapping estrapoliamo innanzitutto da ciascun record i campi ticker, close, low, high, volume e date.\n",
        "Successivamente verifichiamo che il record sia relativo ad un anno che ricada nell'intervallo 1998-2018, per poi stampare la chiave i valori associati alla chiave. In particolare la chiave è composta da due campi: ticker, usata come chiave \"primaria\", e date usata come chiave \"secondaria\".\n",
        "In questo modo valori che verranno ricevuti dal reducer saranno aggregati per il solo campo ticker e ordinati in base al campo date (si parla in questo caso di secondary sort). Questo consentirà nella fase di reduce di evitare comparazioni tra date (per trovare la data più recente e quella meno recente) ai fini del calcolo della differenza percentuale.\n",
        "Il valore associato alla chiave è invece composto dai campi close, low, high e volume."
      ]
    },
    {
      "cell_type": "code",
      "metadata": {
        "colab_type": "code",
        "id": "DDg96A7fPtBP",
        "colab": {}
      },
      "source": [
        "#!/usr/bin/env python\n",
        "import sys\n",
        "\n",
        "# constant for fields position\n",
        "TICKER = 0\n",
        "DATE = 1\n",
        "CLOSE = 2\n",
        "VOLUME = 3\n",
        "  "
      ],
      "execution_count": 0,
      "outputs": []
    },
    {
      "cell_type": "markdown",
      "metadata": {
        "colab_type": "text",
        "id": "6haEuBMmL-dt"
      },
      "source": [
        "### 3.4 Risultati\n",
        "\n",
        "\n",
        "\n",
        "Si mostra ora l'output restituito per il primo job:\n",
        "\n",
        "\n",
        "```\n",
        "Ticker Percent Change Min low          Max high\t   Average volume\n",
        "MNST  163340.387616%  0.0305979158729  70.2200012207  7347898.8208\n",
        "AMZN  38328.032677%   4.14583349228    1925.0         7868702.73287\n",
        "AAPL  37146.0319467%  0.482142865658   219.179992676  121398558.199\n",
        "CTSH  36312.8011611%  0.145833328366   85.0999984741  6272137.93307\n",
        "CELG  24924.0000849%  0.171875         147.169998169  8002695.57352\n",
        "WP    24012.4988778%  0.0500000007451  96.5100021362  1270066.16934\n",
        "MED   13733.2303561%  0.0936999991536  229.199996948  223768.309139\n",
        "NVR   11786.7001488%  21.625           3700.0         56463.7413395\n",
        "ANSS  10077.1432059%  1.375            184.949996948  482841.405197\n",
        "TSCO  9508.67816472%  0.40625          97.25          1592298.53705\n",
        "```"
      ]
    },
    {
      "cell_type": "markdown",
      "metadata": {
        "colab_type": "text",
        "id": "CE4tis5XMB_k"
      },
      "source": [
        "### 3.5 Grafici"
      ]
    },
    {
      "cell_type": "code",
      "metadata": {
        "colab_type": "code",
        "id": "d7AXPrPETNA-",
        "colab": {}
      },
      "source": [
        "draw_plot(1)"
      ],
      "execution_count": 0,
      "outputs": []
    },
    {
      "cell_type": "markdown",
      "metadata": {
        "colab_type": "text",
        "id": "I-ivZXdGLi5G"
      },
      "source": [
        "## 4. Secondo job"
      ]
    },
    {
      "cell_type": "markdown",
      "metadata": {
        "colab_type": "text",
        "id": "JfLYa42bLyo9"
      },
      "source": [
        "### 4.1 Map Reduce"
      ]
    },
    {
      "cell_type": "markdown",
      "metadata": {
        "colab_type": "text",
        "id": "wgv5cEnMLyo_"
      },
      "source": [
        "Un job che sia in grado di generare, per ciascun settore, il relativo “trend” nel periodo 2008-2018 ovvero un elenco contenete, per ciascun anno nell’intervallo: (a) il volume annuale1 medio delle azioni del settore, (b) la variazione annuale2 media delle aziende del settore e (c) la quotazione giornaliera media delle aziende del settore."
      ]
    },
    {
      "cell_type": "markdown",
      "metadata": {
        "colab_type": "text",
        "id": "AAqgsRw4ZKzU"
      },
      "source": [
        "**Config**\n",
        "\n",
        "\n"
      ]
    },
    {
      "cell_type": "code",
      "metadata": {
        "colab_type": "code",
        "id": "jf9F7jP_ZKzV",
        "colab": {}
      },
      "source": [
        "-D stream.num.map.output.key.fields=3 \n",
        "-D mapreduce.partition.keypartitioner.options=-k1,1 \n",
        "-D mapreduce.job.reduces=1 \n",
        "-partitioner org.apache.hadoop.mapred.lib.KeyFieldBasedPartitioner"
      ],
      "execution_count": 0,
      "outputs": []
    },
    {
      "cell_type": "markdown",
      "metadata": {
        "colab_type": "text",
        "id": "WfLB2T46LypA"
      },
      "source": [
        "**Mapper**\n",
        "\n",
        "In fase di mapping andiamo a estrarre da due file differenti i record di interesse. In particolare dal file caricato su Hadoop estraiamo i campi *ticker*, *close*, *volume*, *date*, mentre dal file che leggiamo direttamente dal nostro IDE estraiamo i campi *ticker* e *sector*.\n",
        "Le chiavi che vengono usate in questo secondo job sono 3: *sector*, *ticker* e *date*.\n"
      ]
    },
    {
      "cell_type": "code",
      "metadata": {
        "colab_type": "code",
        "id": "dfHnW9KWLypA",
        "colab": {}
      },
      "source": [
        "#PSEUDO MAPPER\n",
        "\n",
        "class Mapper:\n",
        "\n",
        "  extract ticker, sector from localFile\n",
        "\n",
        "  for line in input\n",
        "    extract ticker, close, volume, date\n",
        "\n",
        "    if year in (2008,2018)\n",
        "      send to reducer sector, ticker, date, close, volume"
      ],
      "execution_count": 0,
      "outputs": []
    },
    {
      "cell_type": "markdown",
      "metadata": {
        "colab_type": "text",
        "id": "L1BfraB5LypE"
      },
      "source": [
        "**Reducer**\n",
        "\n",
        "In fase di reducing, dopo aver estratto i valori passati dal mapper, andiamo a calcolare i punti definiti nell'hw; in particolare per il calcolo dei dati di interesse siamo andati a definire 3 oggetti differenti."
      ]
    },
    {
      "cell_type": "code",
      "metadata": {
        "colab_type": "code",
        "id": "aXDQBJYyLypF",
        "colab": {}
      },
      "source": [
        "#PSEUDO REDUCER\n",
        "\n",
        "class Reducer:\n",
        "\n",
        "  #TODO\n",
        "  "
      ],
      "execution_count": 0,
      "outputs": []
    },
    {
      "cell_type": "markdown",
      "metadata": {
        "colab_type": "text",
        "id": "jf08JbtYLypK"
      },
      "source": [
        "### 4.2 Hive"
      ]
    },
    {
      "cell_type": "markdown",
      "metadata": {
        "id": "hnN19qs2me-b",
        "colab_type": "text"
      },
      "source": [
        "**Implementazione Hive**\n",
        "\n",
        "---\n",
        "\n",
        "```\n",
        "ticker_data_volume(sector, ticker, anno, sum_volume) \n",
        "```\n",
        "\n",
        ">**sum_volume**: *Volume totale di un ticker in un anno*\n",
        "\n",
        "<br>\n",
        "\n",
        "```\n",
        "sector_data_avg_volume(sector, anno, avg_volume ) \n",
        "```\n",
        "\n",
        ">**avg_volume**: *Volume annuale medio delle azioni del settore*\n",
        "\n",
        "<br>\n",
        "\n",
        "```\n",
        "ticker_first_last_data_year(sector, ticker, first_data, last_data) \n",
        "```\n",
        "\n",
        ">**first_data**: *La prima data in cui è stato quotato il ticker in un anno*\n",
        "<br>\n",
        ">**last_data**: *L'ultima data in cui è stato quotato il ticker in un anno*\n",
        "\n",
        "<br>\n",
        " \n",
        "```\n",
        "ticker_close_first_data(sector, ticker, data, first_price) \n",
        "```\n",
        "\n",
        ">**first_price**: *Primo valore di chiusura in un anno*\n",
        "\n",
        "<br>\n",
        " \n",
        "```\n",
        "ticker_close_last_data(sector, ticker, data, last_price) \n",
        "```\n",
        "\n",
        ">**last_price**: *Ultimo valore di chiusura in un anno*\n",
        "\n",
        "<br>\n",
        "\n",
        "```\n",
        "ticker_percentage(sector, ticker, anno, inc_per) \n",
        "```\n",
        "\n",
        ">**inc_per**: *Variazione della quotazione nell'anno(((last_price-first_price)/first_price)x100)*\n",
        "\n",
        "<br>\n",
        "\n",
        "```\n",
        "sector_avg_percentage(sector, anno, avg_per) \n",
        "```\n",
        "\n",
        ">**avg_per**: *La variazione annuale media delle aziende del settore in un anno*\n",
        "\n",
        "<br>\n",
        "\n",
        "```\n",
        "ticker_avg_price(sector, ticker, anno, avg_ticker_price) \n",
        "```\n",
        "\n",
        ">**avg_ticker_price**: *La quotazione giornaliera media del ticker in un anno*\n",
        "\n",
        "<br>\n",
        " \n",
        "```\n",
        "sector_avg_price(sector, anno, avg_sector_price) \n",
        "```\n",
        "\n",
        ">**avg_sector_price**: *La quotazione giornaliera media delle aziende del settore in un anno*\n"
      ]
    },
    {
      "cell_type": "markdown",
      "metadata": {
        "id": "KZKwJ6tnm6Ht",
        "colab_type": "text"
      },
      "source": [
        "```sql\n",
        "CREATE TABLE IF NOT EXISTS main_table AS \n",
        "SELECT hs.sector, hsp.ticker, hsp.data, hsp.close, hsp.volume \n",
        "FROM historical_stock AS hs \n",
        "JOIN historical_stock_prices AS hsp \n",
        "ON hsp.ticker=hs.ticker \n",
        "WHERE YEAR(hsp.data)>=2008 AND YEAR(hsp.data)<=2018 \n",
        "AND hs.sector!='N/A';\n",
        "\n",
        "CREATE TABLE IF NOT EXISTS ticker_data_volume AS \n",
        "SELECT sector, ticker, YEAR(data) AS anno, SUM(volume) AS sum_volume \n",
        "FROM main_table \n",
        "GROUP BY sector, ticker, YEAR(data);\n",
        "\n",
        "CREATE TABLE IF NOT EXISTS sector_data_avg_volume AS \n",
        "SELECT sector, anno, AVG(sum_volume) AS avg_volume \n",
        "FROM ticker_data_volume \n",
        "GROUP BY sector, anno;\n",
        "\n",
        "CREATE TABLE IF NOT EXISTS ticker_first_last_data_year AS \n",
        "SELECT sector, ticker, min(TO_DATE(data)) AS first_data, max(TO_DATE(data)) AS last_data \n",
        "FROM main_table \n",
        "GROUP BY sector, ticker, YEAR(data);\n",
        "\n",
        "CREATE TABLE IF NOT EXISTS ticker_close_first_data AS \n",
        "SELECT t.sector, h.ticker, h.data, h.close AS first_price\n",
        "FROM ticker_first_last_data_year AS t\n",
        "JOIN historical_stock_prices AS h \n",
        "ON h.ticker=t.ticker AND h.data=t.first_data;\n",
        "\n",
        "CREATE TABLE IF NOT EXISTS ticker_close_last_data AS \n",
        "SELECT t.sector, h.ticker, h.data, h.close AS last_price\n",
        "FROM ticker_first_last_data_year AS t\n",
        "JOIN historical_stock_prices AS h \n",
        "ON h.ticker=t.ticker AND h.data=t.last_data;\n",
        "\n",
        "CREATE TABLE IF NOT EXISTS ticker_percentage AS \n",
        "SELECT fc.sector, fc.ticker, YEAR(fc.data) as anno, (((lc.last_price-fc.first_price)/fc.first_price) * 100) AS inc_per \n",
        "FROM ticker_close_last_data AS lc\n",
        "JOIN ticker_close_first_data AS fc\n",
        "ON lc.ticker=fc.ticker AND YEAR(lc.data)=YEAR(fc.data);\n",
        "\n",
        "CREATE TABLE IF NOT EXISTS sector_avg_percentage AS \n",
        "SELECT sector, anno, AVG(inc_per) AS avg_per\n",
        "FROM ticker_percentage\n",
        "GROUP BY sector, anno;\n",
        "\n",
        "CREATE TABLE IF NOT EXISTS ticker_avg_price AS\n",
        "SELECT sector, ticker, YEAR(data) AS anno, AVG(close) AS avg_ticker_price\n",
        "FROM main_table\n",
        "GROUP BY sector, ticker, YEAR(data);\n",
        "\n",
        "CREATE TABLE IF NOT EXISTS sector_avg_price AS\n",
        "SELECT sector, anno, AVG(avg_ticker_price) AS avg_sector_price\n",
        "FROM ticker_avg_price\n",
        "GROUP BY sector, anno;\n",
        "\n",
        "CREATE TABLE IF NOT EXISTS result_job_2 AS \n",
        "SELECT a.sector, a.anno, a.avg_volume, b.avg_per, c.avg_sector_price \n",
        "FROM sector_data_avg_volume AS a\n",
        "JOIN sector_avg_percentage AS b\n",
        "JOIN sector_avg_price AS c \n",
        "ON a.sector=b.sector AND b.sector=c.sector AND a.anno=b.anno AND b.anno=c.anno\n",
        "ORDER BY sector, anno;\n",
        "\n",
        "```"
      ]
    },
    {
      "cell_type": "markdown",
      "metadata": {
        "colab_type": "text",
        "id": "9V9RX7ppLypQ"
      },
      "source": [
        "### 4.3 Spark"
      ]
    },
    {
      "cell_type": "markdown",
      "metadata": {
        "colab_type": "text",
        "id": "BWSxUp3-LypQ"
      },
      "source": [
        "**Implementazione Spark**\n",
        "\n",
        "In fase di mapping estrapoliamo innanzitutto da ciascun record i campi ticker, close, low, high, volume e date.\n",
        "Successivamente verifichiamo che il record sia relativo ad un anno che ricada nell'intervallo 1998-2018, per poi stampare la chiave i valori associati alla chiave. In particolare la chiave è composta da due campi: ticker, usata come chiave \"primaria\", e date usata come chiave \"secondaria\".\n",
        "In questo modo valori che verranno ricevuti dal reducer saranno aggregati per il solo campo ticker e ordinati in base al campo date (si parla in questo caso di secondary sort). Questo consentirà nella fase di reduce di evitare comparazioni tra date (per trovare la data più recente e quella meno recente) ai fini del calcolo della differenza percentuale.\n",
        "Il valore associato alla chiave è invece composto dai campi close, low, high e volume."
      ]
    },
    {
      "cell_type": "code",
      "metadata": {
        "colab_type": "code",
        "id": "ufYjOTVELypR",
        "colab": {}
      },
      "source": [
        "#!/usr/bin/env python\n",
        "import sys\n",
        "\n",
        "# constant for fields position\n",
        "TICKER = 0\n",
        "DATE = 1\n",
        "CLOSE = 2\n",
        "VOLUME = 3\n",
        "  "
      ],
      "execution_count": 0,
      "outputs": []
    },
    {
      "cell_type": "markdown",
      "metadata": {
        "colab_type": "text",
        "id": "VRDw4sdlLypW"
      },
      "source": [
        "### 4.4 Risultati\n",
        "\n",
        "\n",
        "\n",
        "Si mostra ora l'output restituito per il primo job:\n",
        "\n",
        "\n",
        "```\n",
        "Ticker Percent Change Min low          Max high\t   Average volume\n",
        "MNST  163340.387616%  0.0305979158729  70.2200012207  7347898.8208\n",
        "AMZN  38328.032677%   4.14583349228    1925.0         7868702.73287\n",
        "AAPL  37146.0319467%  0.482142865658   219.179992676  121398558.199\n",
        "CTSH  36312.8011611%  0.145833328366   85.0999984741  6272137.93307\n",
        "CELG  24924.0000849%  0.171875         147.169998169  8002695.57352\n",
        "WP    24012.4988778%  0.0500000007451  96.5100021362  1270066.16934\n",
        "MED   13733.2303561%  0.0936999991536  229.199996948  223768.309139\n",
        "NVR   11786.7001488%  21.625           3700.0         56463.7413395\n",
        "ANSS  10077.1432059%  1.375            184.949996948  482841.405197\n",
        "TSCO  9508.67816472%  0.40625          97.25          1592298.53705\n",
        "```"
      ]
    },
    {
      "cell_type": "markdown",
      "metadata": {
        "colab_type": "text",
        "id": "_gavCgchLypX"
      },
      "source": [
        "### 4.5 Grafici"
      ]
    },
    {
      "cell_type": "code",
      "metadata": {
        "colab_type": "code",
        "id": "P3uqmpXDLypX",
        "colab": {}
      },
      "source": [
        "import matplotlib\n",
        "import matplotlib.pyplot as plt\n",
        "import numpy as np\n",
        "\n",
        "# Data for plotting\n",
        "t = np.arange(0.0, 2.0, 0.01)\n",
        "s = 1 + np.sin(2 * np.pi * t)\n",
        "\n",
        "fig, ax = plt.subplots()\n",
        "ax.plot(t, s)\n",
        "\n",
        "ax.set(xlabel='time (s)', ylabel='voltage (mV)',\n",
        "       title='About as simple as it gets, folks')\n",
        "ax.grid()\n",
        "\n",
        "fig.savefig(\"test.png\")\n",
        "plt.show()"
      ],
      "execution_count": 0,
      "outputs": []
    },
    {
      "cell_type": "markdown",
      "metadata": {
        "colab_type": "text",
        "id": "szJFoEVEMDEP"
      },
      "source": [
        "## 5. Terzo job"
      ]
    },
    {
      "cell_type": "markdown",
      "metadata": {
        "colab_type": "text",
        "id": "YBGaJxuWMLOY"
      },
      "source": [
        "### 5.1 Map Reduce"
      ]
    },
    {
      "cell_type": "markdown",
      "metadata": {
        "colab_type": "text",
        "id": "v59pzXixMLOb"
      },
      "source": [
        "Un job in grado di generare gruppi di aziende le cui azioni hanno avuto lo stesso trend in termini di variazione annuale nell’ultimo triennio disponibile, indicando le aziende e il trend comune (es. {Apple, Intel, Amazon}: 2016:-1%, 2017:+3%, 2018:+5%)."
      ]
    },
    {
      "cell_type": "markdown",
      "metadata": {
        "colab_type": "text",
        "id": "RICRmYO7dUOh"
      },
      "source": [
        "**Config**\n",
        "\n",
        "\n"
      ]
    },
    {
      "cell_type": "code",
      "metadata": {
        "colab_type": "code",
        "id": "qExmSM1mdUOj",
        "colab": {}
      },
      "source": [
        "#Prima passata\n",
        "    \n",
        "-D stream.num.map.output.key.fields=2\n",
        "-D mapreduce.partition.keypartitioner.options=-k1,1\n",
        "-D mapreduce.job.reduces=1\n",
        "-partitioner org.apache.hadoop.mapred.lib.KeyFieldBasedPartitioner\n"
      ],
      "execution_count": 0,
      "outputs": []
    },
    {
      "cell_type": "code",
      "metadata": {
        "id": "pPATCDijdc4D",
        "colab_type": "code",
        "colab": {}
      },
      "source": [
        "#Seconda passata\n",
        "\n",
        "-D stream.num.map.output.key.fields=3\n",
        "-D mapreduce.job.reduces=1"
      ],
      "execution_count": 0,
      "outputs": []
    },
    {
      "cell_type": "markdown",
      "metadata": {
        "colab_type": "text",
        "id": "AskVXmMnMLOc"
      },
      "source": [
        "**Mapper 1**\n",
        "\n",
        "\n",
        "In fase di mapping andiamo a estrarre da due file differenti i record di interesse. In particolare dal primo estraiamo i campi *ticker*, *close*, *date*, mentre dal secondo estraiamo i campi *ticker* e *name*.\n",
        "Le chiavi che vengono usate in questo secondo job sono 2: *sector*, *date*."
      ]
    },
    {
      "cell_type": "code",
      "metadata": {
        "colab_type": "code",
        "id": "icBI4r8AMLOc",
        "colab": {}
      },
      "source": [
        "#PSEUDO MAPPER1\n",
        "\n",
        "class Mapper:\n",
        "\n",
        "  extract ticker, name from localFile\n",
        "\n",
        "  for line in input\n",
        "    extract ticker, close, date\n",
        "\n",
        "    if year in (2016,2018)\n",
        "      send to reducer1 ticker, date, close, name\n"
      ],
      "execution_count": 0,
      "outputs": []
    },
    {
      "cell_type": "markdown",
      "metadata": {
        "colab_type": "text",
        "id": "S9XYNZupMLOf"
      },
      "source": [
        "**Reducer 1**\n",
        "\n",
        "In fase di reducing, dopo aver estratto i valori passati dal mapper, andiamo a calcolare i punti definiti nell'hw; in particolare per il calcolo del volume abbiamo creato un oggetto(avgVolume) per semplificarci il calcolo."
      ]
    },
    {
      "cell_type": "code",
      "metadata": {
        "colab_type": "code",
        "id": "Xj65R84QMLOf",
        "colab": {}
      },
      "source": [
        "#PSEUDO REDUCER 1\n",
        "\n",
        "#TODO\n"
      ],
      "execution_count": 0,
      "outputs": []
    },
    {
      "cell_type": "markdown",
      "metadata": {
        "colab_type": "text",
        "id": "14B2lbZ_TMtK"
      },
      "source": [
        "**Mapper 2**\n",
        "\n",
        "Questo secondo mapper l'unica cosa che va a fare è leggere l'output del primo reducer da Hadoop e lo va a passare al secondo reducer"
      ]
    },
    {
      "cell_type": "code",
      "metadata": {
        "id": "ehz5soTFfjyR",
        "colab_type": "code",
        "colab": {}
      },
      "source": [
        "for line in input\n",
        "  send line to reducer2 "
      ],
      "execution_count": 0,
      "outputs": []
    },
    {
      "cell_type": "markdown",
      "metadata": {
        "colab_type": "text",
        "id": "is48UAf8TSDL"
      },
      "source": [
        "**Reducer 2**\n",
        "\n",
        "In fase di reducing, dopo aver estratto i valori passati dal mapper2, andiamo a calcolare i punti definiti nell'hw; in particolare per il calcolo del volume abbiamo creato un oggetto(avgVolume) per semplificarci il calcolo."
      ]
    },
    {
      "cell_type": "code",
      "metadata": {
        "colab_type": "code",
        "id": "fSIicXFgTbt3",
        "colab": {}
      },
      "source": [
        "#PESUDO REDUCER2\n",
        "\n",
        "#todo\n"
      ],
      "execution_count": 0,
      "outputs": []
    },
    {
      "cell_type": "markdown",
      "metadata": {
        "colab_type": "text",
        "id": "rRTjMtJAMLOi"
      },
      "source": [
        "### 5.2 Hive"
      ]
    },
    {
      "cell_type": "markdown",
      "metadata": {
        "colab_type": "text",
        "id": "67jvOxvXnBpz"
      },
      "source": [
        "**Implementazione Hive**\n",
        "\n",
        "---\n",
        "\n",
        "```\n",
        "ticker_first_last_data_year(sector, ticker, first_data, last_data) \n",
        "```\n",
        "\n",
        ">**first_data**: *La prima data in cui è stato quotato il ticker in un anno*\n",
        "<br>\n",
        ">**last_data**: *L'ultima data in cui è stato quotato il ticker in un anno*\n",
        "\n",
        "<br>\n",
        " \n",
        "```\n",
        "ticker_close_first_data(sector, ticker, data, first_price) \n",
        "```\n",
        "\n",
        ">**first_price**: *Primo valore di chiusura in un anno*\n",
        "\n",
        "<br>\n",
        " \n",
        "```\n",
        "ticker_close_last_data(sector, ticker, data, last_price) \n",
        "```\n",
        "\n",
        ">**last_price**: *Ultimo valore di chiusura in un anno*\n",
        "\n",
        "<br>\n",
        "\n",
        "```\n",
        "ticker_percentage(sector, ticker, anno, inc_per) \n",
        "```\n",
        "\n",
        ">**inc_per**: *Variazione della quotazione nell'anno(((last_price-first_price)/first_price)x100)*\n",
        "\n",
        "<br>\n",
        "\n",
        "---\n",
        "\n",
        "```\n",
        "first_year(name, inc_per) \n",
        "```\n",
        "\n",
        ">**inc_per**: *Variazione della quotazione nel primo anno*\n",
        "\n",
        "<br>\n",
        "\n",
        "---\n",
        "\n",
        "```\n",
        "second_year(name, inc_per) \n",
        "```\n",
        "\n",
        ">**inc_per**: *Variazione della quotazione nel secondo anno*\n",
        "\n",
        "<br>\n",
        "\n",
        "---\n",
        "\n",
        "```\n",
        "third_year(name, inc_per) \n",
        "```\n",
        "\n",
        ">**inc_per**: *Variazione della quotazione nel terzo anno*\n",
        "\n",
        "<br>\n",
        "\n",
        "---\n",
        "\n",
        "```\n",
        "result_job_3(name, primo, secondo, terzo) \n",
        "```\n",
        "\n",
        ">**primo**: *Variazione della quotazione nel primo anno*\n",
        "<br>\n",
        ">**secondo**: *Variazione della quotazione nel secondo anno*\n",
        "<br>\n",
        ">**terzo**: *Variazione della quotazione nel terzo anno*\n",
        "\n",
        "<br>\n",
        "\n",
        "---\n",
        "\n",
        "```\n",
        "SELECT collect_set(name), primo, secondo, terzo\n",
        "FROM result_job_3 \n",
        "GROUP BY primo, secondo, terzo;\n",
        "```\n",
        "\n",
        "> *La query genera liste di aziende aventi lo stesso trend nei tre anni*\n",
        "\n",
        "<br>"
      ]
    },
    {
      "cell_type": "markdown",
      "metadata": {
        "colab_type": "text",
        "id": "jE8pEo5unBp0"
      },
      "source": [
        "```sql\n",
        "CREATE TABLE IF NOT EXISTS main_table AS \n",
        "SELECT hs.name, hsp.ticker, hsp.data, hsp.close\n",
        "FROM historical_stock AS hs \n",
        "JOIN historical_stock_prices AS hsp \n",
        "ON hsp.ticker=hs.ticker \n",
        "WHERE YEAR(hsp.data)>=2016 AND YEAR(hsp.data)<=2018 \n",
        "AND hs.name!='N/A';\n",
        "\n",
        "CREATE TABLE IF NOT EXISTS ticker_first_last_data_year AS \n",
        "SELECT name, ticker, min(TO_DATE(data)) AS first_data, max(TO_DATE(data)) AS last_data \n",
        "FROM main_table \n",
        "GROUP BY name, ticker, YEAR(data);\n",
        "\n",
        "CREATE TABLE IF NOT EXISTS ticker_close_first_data AS \n",
        "SELECT t.name, h.ticker, h.data, h.close AS first_price\n",
        "FROM ticker_first_last_data_year AS t\n",
        "JOIN historical_stock_prices AS h \n",
        "ON h.ticker=t.ticker AND h.data=t.first_data;\n",
        "\n",
        "CREATE TABLE IF NOT EXISTS ticker_close_last_data AS \n",
        "SELECT t.name, h.ticker, h.data, h.close AS last_price\n",
        "FROM ticker_first_last_data_year AS t\n",
        "JOIN historical_stock_prices AS h \n",
        "ON h.ticker=t.ticker AND h.data=t.last_data;\n",
        "\n",
        "CREATE TABLE IF NOT EXISTS ticker_percentage AS \n",
        "SELECT fc.name, fc.ticker, YEAR(fc.data) as anno, (((lc.last_price-fc.first_price)/fc.first_price) * 100) AS inc_per \n",
        "FROM ticker_close_last_data AS lc\n",
        "JOIN ticker_close_first_data AS fc\n",
        "ON lc.ticker=fc.ticker AND YEAR(lc.data)=YEAR(fc.data);\n",
        "\n",
        "CREATE TABLE IF NOT EXISTS first_year AS \n",
        "SELECT name, inc_per\n",
        "FROM ticker_percentage\n",
        "WHERE anno == 2016\n",
        "ORDER BY name;\n",
        "\n",
        "CREATE TABLE IF NOT EXISTS second_year AS \n",
        "SELECT name, inc_per\n",
        "FROM ticker_percentage\n",
        "WHERE anno == 2017\n",
        "ORDER BY name;\n",
        "\n",
        "CREATE TABLE IF NOT EXISTS third_year AS \n",
        "SELECT name, inc_per\n",
        "FROM ticker_percentage\n",
        "WHERE anno == 2018\n",
        "ORDER BY name;\n",
        "\n",
        "CREATE TABLE IF NOT EXISTS result_job_3 AS\n",
        "SELECT first_year.name, first_year.inc_per AS primo, second_year.inc_per AS secondo, third_year.inc_per AS terzo\n",
        "FROM first_year, second_year, third_year\n",
        "WHERE first_year.name = second_year.name AND second_year.name = third_year.name\n",
        "ORDER BY primo, secondo, terzo;\n",
        "\n",
        "SELECT collect_set(name), primo, secondo, terzo\n",
        "FROM result_job_3 \n",
        "GROUP BY primo, secondo, terzo;\n",
        "\n",
        "```"
      ]
    },
    {
      "cell_type": "markdown",
      "metadata": {
        "colab_type": "text",
        "id": "uj0t3NoHMLOl"
      },
      "source": [
        "### 5.3 Spark"
      ]
    },
    {
      "cell_type": "markdown",
      "metadata": {
        "colab_type": "text",
        "id": "w-MIYTz1MLOo"
      },
      "source": [
        "**Implementazione Spark**\n",
        "\n",
        "In fase di mapping estrapoliamo innanzitutto da ciascun record i campi ticker, close, low, high, volume e date.\n",
        "Successivamente verifichiamo che il record sia relativo ad un anno che ricada nell'intervallo 1998-2018, per poi stampare la chiave i valori associati alla chiave. In particolare la chiave è composta da due campi: ticker, usata come chiave \"primaria\", e date usata come chiave \"secondaria\".\n",
        "In questo modo valori che verranno ricevuti dal reducer saranno aggregati per il solo campo ticker e ordinati in base al campo date (si parla in questo caso di secondary sort). Questo consentirà nella fase di reduce di evitare comparazioni tra date (per trovare la data più recente e quella meno recente) ai fini del calcolo della differenza percentuale.\n",
        "Il valore associato alla chiave è invece composto dai campi close, low, high e volume."
      ]
    },
    {
      "cell_type": "code",
      "metadata": {
        "colab_type": "code",
        "id": "83gJa9LIMLOp",
        "colab": {}
      },
      "source": [
        "#!/usr/bin/env python\n",
        "import sys\n",
        "\n",
        "# constant for fields position\n",
        "TICKER = 0\n",
        "DATE = 1\n",
        "CLOSE = 2\n",
        "VOLUME = 3\n",
        "  "
      ],
      "execution_count": 0,
      "outputs": []
    },
    {
      "cell_type": "markdown",
      "metadata": {
        "colab_type": "text",
        "id": "iZY6I6U0MLOs"
      },
      "source": [
        "### 5.4 Risultati\n",
        "\n",
        "\n",
        "\n",
        "Si mostra ora l'output restituito per il primo job:\n",
        "\n",
        "\n",
        "```\n",
        "Ticker Percent Change Min low          Max high\t   Average volume\n",
        "MNST  163340.387616%  0.0305979158729  70.2200012207  7347898.8208\n",
        "AMZN  38328.032677%   4.14583349228    1925.0         7868702.73287\n",
        "AAPL  37146.0319467%  0.482142865658   219.179992676  121398558.199\n",
        "CTSH  36312.8011611%  0.145833328366   85.0999984741  6272137.93307\n",
        "CELG  24924.0000849%  0.171875         147.169998169  8002695.57352\n",
        "WP    24012.4988778%  0.0500000007451  96.5100021362  1270066.16934\n",
        "MED   13733.2303561%  0.0936999991536  229.199996948  223768.309139\n",
        "NVR   11786.7001488%  21.625           3700.0         56463.7413395\n",
        "ANSS  10077.1432059%  1.375            184.949996948  482841.405197\n",
        "TSCO  9508.67816472%  0.40625          97.25          1592298.53705\n",
        "```"
      ]
    },
    {
      "cell_type": "markdown",
      "metadata": {
        "colab_type": "text",
        "id": "TUgDGaOGMLOt"
      },
      "source": [
        "### 5.5 Grafici"
      ]
    },
    {
      "cell_type": "code",
      "metadata": {
        "colab_type": "code",
        "id": "IxQbfSk9MLOt",
        "outputId": "bcd634f6-1b9d-4e93-e807-7abf92dd611e",
        "colab": {
          "base_uri": "https://localhost:8080/",
          "height": 232
        }
      },
      "source": [
        "import matplotlib\n",
        "import matplotlib.pyplot as plt\n",
        "import csv\n",
        "\n",
        "jd = {}\n",
        "\n",
        "CSV_PATH='time-execute/'\n",
        "CSV_FILE='local.csv'\n",
        "\n",
        "with open(CSV_PATH+CSV_FILE,'r') as csvfile:\n",
        "    plots = csv.reader(csvfile, delimiter=',')\n",
        "    for row in plots:\n",
        "        job, *times=row\n",
        "        jd[job]=[float(x) for x in times]\n",
        "\n",
        "plt.plot(jd['job'], jd['1'], color='tab:blue', marker='o')\n",
        "plt.plot(jd['job'], jd['2'], color='tab:orange', marker='o')\n",
        "plt.plot(jd['job'], jd['3'], color='tab:green', marker='o')\n",
        "plt.title('Grafico')\n",
        "plt.xlabel('dimension')\n",
        "plt.ylabel('time')\n",
        "plt.grid(alpha=0.4)"
      ],
      "execution_count": 0,
      "outputs": [
        {
          "output_type": "display_data",
          "data": {
            "image/png": "[encoded data removed]",
            "text/plain": [
              "<Figure size 432x288 with 1 Axes>"
            ]
          },
          "metadata": {
            "tags": [],
            "needs_background": "light"
          }
        }
      ]
    },
    {
      "cell_type": "code",
      "metadata": {
        "id": "7GhCq4pXIAne",
        "colab_type": "code",
        "colab": {}
      },
      "source": [
        ""
      ],
      "execution_count": 0,
      "outputs": []
    }
  ]
}