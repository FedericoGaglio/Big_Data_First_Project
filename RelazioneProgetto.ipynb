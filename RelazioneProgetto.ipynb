{
  "nbformat": 4,
  "nbformat_minor": 0,
  "metadata": {
    "colab": {
      "name": "RelazioneProgetto.ipynb",
      "provenance": [],
      "collapsed_sections": [
        "9EkFKU-fKOwg",
        "lt_-JvS7I21L",
        "shCKKatJJKtr",
        "D7iqTQR_a_MG",
        "ANnto2Xv4Uib",
        "ES9z1wlSa_MX",
        "R6mskE4Ua_Mb",
        "A4X_apcCLRAr",
        "6-VqYcxiLbRD",
        "feSqmC19LrGR",
        "7SvyuEtIL5yj",
        "6haEuBMmL-dt",
        "CE4tis5XMB_k",
        "I-ivZXdGLi5G",
        "jf08JbtYLypK",
        "9V9RX7ppLypQ",
        "VRDw4sdlLypW",
        "_gavCgchLypX",
        "szJFoEVEMDEP",
        "YBGaJxuWMLOY",
        "rRTjMtJAMLOi",
        "uj0t3NoHMLOl",
        "iZY6I6U0MLOs"
      ]
    },
    "kernelspec": {
      "display_name": "Python 3",
      "language": "python",
      "name": "python3"
    },
    "language_info": {
      "codemirror_mode": {
        "name": "ipython",
        "version": 3
      },
      "file_extension": ".py",
      "mimetype": "text/x-python",
      "name": "python",
      "nbconvert_exporter": "python",
      "pygments_lexer": "ipython3",
      "version": "3.8.2"
    }
  },
  "cells": [
    {
      "cell_type": "markdown",
      "metadata": {
        "colab_type": "text",
        "id": "eY54s4xJJyeH"
      },
      "source": [
        "# **Relazione finale**\n",
        "\n",
        "**Gruppo**: BigCovid\n",
        "\n",
        "**Componenti del gruppo**: Alessio Verdolini, Federico Gaglio"
      ]
    },
    {
      "cell_type": "markdown",
      "metadata": {
        "colab_type": "text",
        "id": "9EkFKU-fKOwg"
      },
      "source": [
        "# *Indice*"
      ]
    },
    {
      "cell_type": "markdown",
      "metadata": {
        "id": "_kWkD3-EhEtt",
        "colab_type": "text"
      },
      "source": [
        "1. **Analisi del dataset**\n",
        "\n",
        "2. **Commons**\n",
        "\n",
        "3. **Primo job**\n",
        "\n",
        "  3.1 *MapReduce*\n",
        "  \n",
        "  3.2 *Hive*\n",
        "\n",
        "  3.3 *Spark*\n",
        "\n",
        "  3.4 *Risultati*\n",
        "\n",
        "  3.5 *Grafici*\n",
        "  \n",
        "\n",
        "4. **Secondo job**\n",
        "\n",
        "  4.1 *MapReduce*\n",
        "\n",
        "  4.2 *Hive*\n",
        "\n",
        "  4.3 *Spark*\n",
        "\n",
        "  4.4 *Risultati*\n",
        "\n",
        "  4.5 *Grafici*\n",
        "  \n",
        "  \n",
        "5. **Terzo job**\n",
        "\n",
        "  5.1 *MapReduce*\n",
        "\n",
        "  5.2 *Hive*\n",
        "\n",
        "  5.3 *Spark*\n",
        "\n",
        "  5.4 *Risultati*\n",
        "\n",
        "  5.5 *Grafici*"
      ]
    },
    {
      "cell_type": "markdown",
      "metadata": {
        "colab_type": "text",
        "id": "3_aWQFFaKmQB"
      },
      "source": [
        "# 1. Analisi del dataset"
      ]
    },
    {
      "cell_type": "markdown",
      "metadata": {
        "colab_type": "text",
        "id": "lt_-JvS7I21L"
      },
      "source": [
        "# 2. Commons"
      ]
    },
    {
      "cell_type": "markdown",
      "metadata": {
        "colab_type": "text",
        "id": "shCKKatJJKtr"
      },
      "source": [
        "### 2.1 Grafici\n"
      ]
    },
    {
      "cell_type": "code",
      "metadata": {
        "colab_type": "code",
        "id": "99SGIOXU1iXn",
        "colab": {}
      },
      "source": [
        "import matplotlib\n",
        "import matplotlib.pyplot as plt\n",
        "import csv\n",
        "\n",
        "CSV_PATH='time-execute/'\n",
        "\n",
        "\n",
        "def draw_plot(job_number):\n",
        "    LOCAL = CSV_PATH+'local_'+str(job_number)+'.csv'\n",
        "    CLUSTER = CSV_PATH+'cluster_'+str(job_number)+'.csv'\n",
        "    \n",
        "    dataset={}\n",
        "    data_local = {}\n",
        "    data_cluster = {}\n",
        "    \n",
        "    with open(LOCAL,'r') as csvfile:\n",
        "        plots = csv.reader(csvfile, delimiter=',')\n",
        "        for row in plots:\n",
        "            job, *times=row\n",
        "            data_local[job]=[float(x) for x in times]\n",
        "        dataset[0] = {\n",
        "            'name': \"Locale\",\n",
        "            'time': data_local\n",
        "        }\n",
        "    \n",
        "    with open(CLUSTER,'r') as csvfile:\n",
        "        plots = csv.reader(csvfile, delimiter=',')\n",
        "        for row in plots:\n",
        "            job, *times=row\n",
        "            data_cluster[job]=[float(x) for x in times]\n",
        "        dataset[1] = {\n",
        "            'name': \"Cluster\",\n",
        "            'time': data_cluster\n",
        "        }\n",
        "        \n",
        "    plot, axs = plt.subplots(1, 2, figsize=(15, 5))\n",
        "\n",
        "    for i in range(0,2):\n",
        "        axs[i].plot(dataset[i]['time']['dim'], dataset[i]['time']['1'], color='tab:blue', marker='o')\n",
        "        axs[i].plot(dataset[i]['time']['dim'], dataset[i]['time']['2'], color='tab:orange', marker='o')\n",
        "        axs[i].plot(dataset[i]['time']['dim'], dataset[i]['time']['3'], color='tab:green', marker='o')\n",
        "        \n",
        "        axs[i].set_title(dataset[i]['name'])\n",
        "        axs[i].set_xlabel('Dimensione (MB)')\n",
        "        axs[i].set_ylabel('Tempo (s)')\n",
        "        axs[i].grid(alpha=0.4)\n",
        "        axs[i].legend(['MapReduce', 'Hive', 'Spark'])"
      ],
      "execution_count": 0,
      "outputs": []
    },
    {
      "cell_type": "markdown",
      "metadata": {
        "id": "D7iqTQR_a_MG",
        "colab_type": "text"
      },
      "source": [
        "### 2.2 MapReduce"
      ]
    },
    {
      "cell_type": "markdown",
      "metadata": {
        "colab_type": "text",
        "id": "ANnto2Xv4Uib"
      },
      "source": [
        "#### 2.2.1 Oggetti MapReduce"
      ]
    },
    {
      "cell_type": "markdown",
      "metadata": {
        "colab_type": "text",
        "id": "ACYoVwmQ4jyM"
      },
      "source": [
        "**AverageObject**\n",
        "\n",
        "Oggetto utilizzato per facilitare la lettura del codice astraendo la logica del calcolo della media dal resto dell'algoritmo.\n",
        "\n",
        "L'oggetto offre due meotodi:\n",
        "\n",
        "1. **add**: aggiorna lo stato della memoria.\n",
        "2. **avg**: esegue la media effettiva."
      ]
    },
    {
      "cell_type": "code",
      "metadata": {
        "colab_type": "code",
        "id": "M0Iwdpec4kV7",
        "colab": {}
      },
      "source": [
        "class AverageObject:\n",
        "\n",
        "    def __init__(self, value=0.0):\n",
        "        self.value = value\n",
        "        self.count = 1 if value else 0\n",
        "\n",
        "    def add(self, value):\n",
        "        self.value += value\n",
        "        self.count += 1\n",
        "        \n",
        "    def avg(self):\n",
        "        return self.value / self.count\n"
      ],
      "execution_count": 0,
      "outputs": []
    },
    {
      "cell_type": "markdown",
      "metadata": {
        "colab_type": "text",
        "id": "XTTs0OFq512t"
      },
      "source": [
        "**Record**\n",
        "\n",
        "Oggetto utilizzato per memorizzare, utilizzando tre differenti istanze del suddetto AverageObject, i seguenti valori:\n",
        "\n",
        "1. **Volume medio**\n",
        "\n",
        "2. **Variazione percentuale media**\n",
        "\n",
        "3. **Variazione media giornaliera**\n",
        "\n",
        "Utilizzando i tre metodi presenti all'interno dell'oggetto è possibile modificare i rispettivi valori di interesse. \n",
        "\n",
        "*Esempio:*\n",
        "\n",
        "```json\n",
        "Record = {\n",
        "    'avg_year_volume': AverageObject,\n",
        "    'avg_year_change_company': AverageObject,\n",
        "    'avg_daily_price': AverageObject,\n",
        "}\n",
        "```"
      ]
    },
    {
      "cell_type": "code",
      "metadata": {
        "colab_type": "code",
        "id": "8XjGCNCu52cW",
        "colab": {}
      },
      "source": [
        "class Record:\n",
        "\n",
        "    def __init__(self):\n",
        "        self.avg_year_volume = AverageObject()\n",
        "        self.avg_year_change_company = AverageObject()\n",
        "        self.avg_daily_price = AverageObject()\n",
        "\n",
        "    def add_volume(self, volume):\n",
        "        self.avg_year_volume.add(volume)\n",
        "\n",
        "    def add_year_change(self, year_change):\n",
        "        self.avg_year_change_company.add(year_change)\n",
        "        \n",
        "    def add_daily_price(self, daily_price):\n",
        "        self.avg_daily_price.add(daily_price)"
      ],
      "execution_count": 0,
      "outputs": []
    },
    {
      "cell_type": "markdown",
      "metadata": {
        "colab_type": "text",
        "id": "jrcaNpes6AHm"
      },
      "source": [
        "**Sector**\n",
        "\n",
        "Oggetto che memorizza il nome del settore e, per ogni anno, i tre parametri richiesti dall'esercizio.\n",
        "\n",
        "Per la memorizzazione dei parametri utilizziamo un dizionario con chiave **anno** e valore un oggetto **Record**.\n",
        "\n",
        "*Esempio:*\n",
        "\n",
        "```json\n",
        "Sector = {\n",
        "    'name': 'NomeSettore',\n",
        "    'year_2_record': {\n",
        "            '2008': Record,\n",
        "            '2009': Record,\n",
        "            '2010': Record\n",
        "    }\n",
        "}\n",
        "```"
      ]
    },
    {
      "cell_type": "code",
      "metadata": {
        "colab_type": "code",
        "id": "fYRy3Jhf6Ahg",
        "colab": {}
      },
      "source": [
        "class Sector:\n",
        "\n",
        "    def __init__(self, name):\n",
        "        self.name = name\n",
        "        self.year_2_record = {}\n",
        "        \n",
        "    def update(self, year, volume, year_change, daily_price):\n",
        "        if not (year in self.year_2_record):\n",
        "            self.year_2_record[year] = Record()\n",
        "        self.year_2_record[year].add_volume(volume)\n",
        "        self.year_2_record[year].add_year_change(year_change)\n",
        "        self.year_2_record[year].add_daily_price(daily_price)"
      ],
      "execution_count": 0,
      "outputs": []
    },
    {
      "cell_type": "markdown",
      "metadata": {
        "colab_type": "text",
        "id": "JER6RPBk6LmB"
      },
      "source": [
        "**Company**\n",
        "\n",
        "Oggetto utilizzato per memorizzare il nome dell'azienda e le rispettive variazioni di quotazione annuali degli ultimi tre anni.\n",
        "\n",
        "\n",
        "*Esempio:*\n",
        "\n",
        "```json\n",
        "Company = {\n",
        "    'name': 'NomeAzienda',\n",
        "    'change_year': {\n",
        "            '2016': +10%,\n",
        "            '2017': -1%,\n",
        "            '2018': +3%\n",
        "    }\n",
        "}\n",
        "```"
      ]
    },
    {
      "cell_type": "code",
      "metadata": {
        "colab_type": "code",
        "id": "LeW9FjcQ6L6Y",
        "colab": {}
      },
      "source": [
        "class Company:\n",
        "  \n",
        "    def __init__(self, name):\n",
        "        self.name = name\n",
        "        self.change_year = {}"
      ],
      "execution_count": 0,
      "outputs": []
    },
    {
      "cell_type": "markdown",
      "metadata": {
        "colab_type": "text",
        "id": "ES9z1wlSa_MX"
      },
      "source": [
        "#### 2.2.2 Estrazione da file esterni"
      ]
    },
    {
      "cell_type": "markdown",
      "metadata": {
        "id": "aWKS7Ywca_MY",
        "colab_type": "text"
      },
      "source": [
        "Questi snippets vengono utilizzati all'interno dei mapper per l'estrazione delle informazioni riguardanti rispettivamente settore e nome delle aziende, associando mediante un dizionario ai rispettivi ticker. \n",
        "\n",
        "Questa operazione permette successivamente di effettuare un merge dei due dataset.\n",
        "\n",
        "\n",
        "*Esempio:*\n",
        "\n",
        "```json\n",
        "ticker_2_Sector = {\n",
        "    'APP': 'Settore 1',\n",
        "    'MIC': 'Settore 2',\n",
        "    'FAC': 'Settore 3',\n",
        "}\n",
        "```\n",
        "\n",
        "```json\n",
        "ticker_2_Name = {\n",
        "    'APP': 'Apple Inc.',\n",
        "    'MIC': 'Microsoft Inc.',\n",
        "    'FAC': 'Facebook Inc.',\n",
        "}\n",
        "```"
      ]
    },
    {
      "cell_type": "code",
      "metadata": {
        "id": "Y4dIjwBga_MZ",
        "colab_type": "code",
        "colab": {}
      },
      "source": [
        "import csv\n",
        "\n",
        "STOCKS_INFO_FILE = 'historycal_stocks.csv'\n",
        "\n",
        "ticker_2_Sector = {}\n",
        "\n",
        "with open(STOCKS_INFO_FILE) as csv_file:\n",
        "    csv_reader = csv.reader(csv_file, delimiter=',')\n",
        "    firstLine = True\n",
        "\n",
        "    for row in csv_reader:\n",
        "        if not firstLine:\n",
        "            ticker, _, _, sector, _ = row\n",
        "            if sector != 'N/A':\n",
        "                ticker_2_Sector[ticker] = sector\n",
        "        else:\n",
        "            firstLine = False\n",
        "            \n",
        "ticker_2_name = {}\n",
        "\n",
        "with open(STOCKS_INFO_FILE) as csv_file:\n",
        "    csv_reader = csv.reader(csv_file, delimiter=',')\n",
        "    firstLine = True\n",
        "\n",
        "    for row in csv_reader:\n",
        "        if not firstLine:\n",
        "            ticker, _, name, _, _ = row\n",
        "            if name != 'N/A':\n",
        "                ticker_2_name[ticker] = name\n",
        "        else:\n",
        "            firstLine = False"
      ],
      "execution_count": 0,
      "outputs": []
    },
    {
      "cell_type": "markdown",
      "metadata": {
        "id": "R6mskE4Ua_Mb",
        "colab_type": "text"
      },
      "source": [
        "### 2.3 Hive"
      ]
    },
    {
      "cell_type": "markdown",
      "metadata": {
        "id": "C63Nkmdha_Mc",
        "colab_type": "text"
      },
      "source": [
        "#### 2.3.1 Creazione delle tabelle partendo da file csv\n",
        "\n",
        "La prima query viene utilizzata per creare la tabella `historical_stock_prices` che contiene tutti i campi del file csv originale effettuando appositi cast in funzione del tipo del campo.\n",
        "\n",
        "Questa tabella sarà utile per estrarre i dati relativi a:\n",
        "\n",
        "<br>\n",
        "\n",
        "\n",
        "|Colonna|Descrizione|\n",
        "|:-------:|:-----:|\n",
        "|ticker|Il ticker di riferimento|\n",
        "|close|La quotazione del ticker a fine giornata|\n",
        "|volume|Il volume giornaliero sul singolo ticker|\n",
        "|data|La data di registrazione del record (data)|\n",
        "\n",
        "<br>\n",
        "\n",
        "L'espressione `TBLPROPERTIES(\"skip.header.line.count\"=\"1\")` viene utilizzata per escludere dall'elaborazione la prima riga del file contenente l'intestazione.\n",
        "\n",
        "\n",
        "```sql\n",
        "CREATE TABLE IF NOT EXISTS historical_stock_prices (\n",
        "\tticker STRING, \n",
        "\topen STRING, \n",
        "\tclose double, \n",
        "\tadj_close STRING, \n",
        "\tlow STRING, \n",
        "\thigh STRING, \n",
        "\tvolume int, \n",
        "\tdata STRING)\n",
        "\n",
        "ROW FORMAT DELIMITED \n",
        "FIELDS TERMINATED BY ',' \n",
        "TBLPROPERTIES(\"skip.header.line.count\"=\"1\");\n",
        "\n",
        "LOAD DATA LOCAL INPATH '<path>/<file>.csv' \n",
        "OVERWRITE INTO TABLE historical_stock_prices;\n",
        "```\n",
        "\n",
        "\n",
        "La seconda query viene utilizzata per creare la tabella `historical_stock` che contiene tutti i campi del file csv originale effettuando appositi cast in funzione del tipo del campo. \n",
        "\n",
        "Questa tabella sarà utile per estrarre i dati relativi a:\n",
        "\n",
        "<br>\n",
        "\n",
        "\n",
        "|Colonna|Descrizione|\n",
        "|:-------:|:-----:|\n",
        "|ticker|Il ticker di riferimento|\n",
        "|name|Il nome dell'azienda proprietaria del ticker|\n",
        "|sector|Il settore di competenza dell'azienda|\n",
        "\n",
        "<br>\n",
        "\n",
        "```sql\n",
        "CREATE TABLE IF NOT EXISTS historical_stock (\n",
        "\tticker STRING, \n",
        "\texchanges STRING, \n",
        "\tname STRING, \n",
        "\tsector STRING, \n",
        "\tindustry STRING)\n",
        "ROW FORMAT DELIMITED \n",
        "FIELDS TERMINATED BY ',' \n",
        "TBLPROPERTIES(\"skip.header.line.count\"=\"1\");\n",
        "\n",
        "LOAD DATA LOCAL INPATH '<path>/<file>.csv' \n",
        "OVERWRITE INTO TABLE historical_stock;\n",
        "```"
      ]
    },
    {
      "cell_type": "markdown",
      "metadata": {
        "colab_type": "text",
        "id": "MJX6dJzhq6dV"
      },
      "source": [
        "### 3.3 Spark"
      ]
    },
    {
      "cell_type": "markdown",
      "metadata": {
        "colab_type": "text",
        "id": "azyYA-zwq6dW"
      },
      "source": [
        "#### 2.3.1 Creazione delgli RDD partendo da file csv\n",
        "\n",
        "```python\n",
        "conf = SparkConf().setMaster(\"local[*]\").setAppName(\"Job2\")\n",
        "sc = SparkContext(conf=conf)\n",
        "```\n",
        "\n",
        "```python\n",
        "input_file = sc.textFile(\n",
        "    \"file:///<path>/<file.csv>\") \\\n",
        "    .map(lambda line: line.split(\",\"))\n",
        "\n",
        "input_file = input_file \\\n",
        "    .filter(lambda line: line[0] != \"ticker\") \\\n",
        "    .filter(lambda line: \"2008\" <= line[7][0:4] <= \"2018\")\n",
        "```\n",
        "\n",
        "```python\n",
        "input_file_2 = sc.textFile(\n",
        "    \"file:///<path>/<file.csv>\") \\\n",
        "    .map(lambda line: line.split(\",\"))\n",
        "\n",
        "input_file_2 = input_file_2 \\\n",
        "    .filter(lambda line: line[0] != \"ticker\") \\\n",
        "    .filter(lambda line: line[3] != \"N/A\") \\\n",
        "```"
      ]
    },
    {
      "cell_type": "markdown",
      "metadata": {
        "colab_type": "text",
        "id": "A4X_apcCLRAr"
      },
      "source": [
        "# 3. Primo job"
      ]
    },
    {
      "cell_type": "markdown",
      "metadata": {
        "colab_type": "text",
        "id": "6-VqYcxiLbRD"
      },
      "source": [
        "### 3.1 Map Reduce"
      ]
    },
    {
      "cell_type": "markdown",
      "metadata": {
        "colab_type": "text",
        "id": "P3zsh-00MVvW"
      },
      "source": [
        "Un job che sia in grado di generare le statistiche di ciascuna azione tra il 2008 e il 2018 indicando, per ogni azione: (a) il simbolo, (b) la variazione della quotazione (differenza percentuale arrotondata tra i prezzi di chiusura iniziale e finale dell’intervallo temporale), (c) il prezzo minimo, (e) quello massimo e (f) il volume medio nell’intervallo, ordinando l’elenco in ordine decrescente di variazione della quotazione."
      ]
    },
    {
      "cell_type": "markdown",
      "metadata": {
        "colab_type": "text",
        "id": "rldEP3s1WEz7"
      },
      "source": [
        "**Config**\n",
        "\n",
        "Usiamo campi come chiavi: *ticker* come chiave primaria usata per aggregare \n",
        " i dati da passare al reducer e *date* per effettuare l'ordinamento secondario sui valori delle date."
      ]
    },
    {
      "cell_type": "markdown",
      "metadata": {
        "id": "OmvOa-J3fOZ5",
        "colab_type": "text"
      },
      "source": [
        "```\n",
        "-D stream.num.map.output.key.fields=2 \n",
        "-D mapreduce.job.reduces=1 \n",
        "```"
      ]
    },
    {
      "cell_type": "markdown",
      "metadata": {
        "colab_type": "text",
        "id": "aehhdGReMjk3"
      },
      "source": [
        "**Mapper**\n",
        "\n",
        "\n",
        "In fase di mapping estraiamo da ciascun record i campi *ticker*, *date*, *close*, *volume*."
      ]
    },
    {
      "cell_type": "markdown",
      "metadata": {
        "id": "YxN-mq8EfSt6",
        "colab_type": "text"
      },
      "source": [
        "```python\n",
        "class Mapper:\n",
        "\n",
        "  for line in file.csv\n",
        "\n",
        "    extract ticker, close, volume, date from file.csv\n",
        "    \n",
        "    if year in (2008, 2018)\n",
        "      send to reducer ticker, data, close, volume\n",
        "```"
      ]
    },
    {
      "cell_type": "markdown",
      "metadata": {
        "colab_type": "text",
        "id": "F5DBfL0RNreM"
      },
      "source": [
        "**Reducer**\n",
        "\n",
        "In fase di reducing, dopo aver estratto i valori passati dal mapper, andiamo a calcolare i punti definiti nell'hw."
      ]
    },
    {
      "cell_type": "markdown",
      "metadata": {
        "id": "oeBzll7kfWRd",
        "colab_type": "text"
      },
      "source": [
        "```python\n",
        "class Reducer:\n",
        "  \n",
        "  define AvgVolume object\n",
        "\n",
        "  for line in mapper output\n",
        "\n",
        "    extract ticker, year, close, volume\n",
        "\n",
        "    percentage_change = ((last_close_price - first_close_price) / first_close_price) * 100\n",
        "    min_price = min(close)\n",
        "    max_price = max(close)\n",
        "    avg_volume = avg(volume)\n",
        "    \n",
        "    sorting values based on percentage_change key\n",
        "```\n",
        "\n"
      ]
    },
    {
      "cell_type": "markdown",
      "metadata": {
        "colab_type": "text",
        "id": "feSqmC19LrGR"
      },
      "source": [
        "### 3.2 Hive"
      ]
    },
    {
      "cell_type": "markdown",
      "metadata": {
        "colab_type": "text",
        "id": "Osbq94IkOtMb"
      },
      "source": [
        "**Implementazione Hive**\n",
        "\n",
        "---\n",
        "\n",
        "```\n",
        "ticker_min_max_avg(ticker, min_price, max_price, avg_volume) \n",
        "```\n",
        "\n",
        ">**min_price:** *Valore minimo di chiusura*\n",
        "<br>\n",
        ">**max_price:** *Valore massimo di chiusura*\n",
        "<br>\n",
        ">**avg_volume:** *Volume medio nell'intervallo*\n",
        "\n",
        "<br>\n",
        "\n",
        "```\n",
        "ticker_first_last_data(ticker, first_data, last_data) \n",
        "```\n",
        "\n",
        ">**first_data:** *La prima data in cui è stato quotato il ticker*\n",
        "<br>\n",
        ">**last_data:** *L'ultima data in cui è stato quotato il ticker*\n",
        "\n",
        "<br>\n",
        "\n",
        "```\n",
        "ticker_close_first_data(ticker, data, first_price) \n",
        "```\n",
        ">**first_price**: *Valore iniziale di chiusura*\n",
        "\n",
        "<br>\n",
        "\n",
        "```\n",
        "ticker_close_last_data(ticker, data, last_price) \n",
        "```\n",
        ">**last_price**: *Valore finale di chiusura*\n",
        "\n",
        "<br>\n",
        "\n",
        "```\n",
        "ticker_percentage(ticker, inc_per) \n",
        "```\n",
        ">**inc_per**: *Variazione di quotazione (((last_price-first_price)/first_price)x100)*\n"
      ]
    },
    {
      "cell_type": "markdown",
      "metadata": {
        "colab_type": "text",
        "id": "OR_Co2jVghwk"
      },
      "source": [
        "```sql\n",
        "CREATE TABLE IF NOT EXISTS ticker_min_max_avg AS\n",
        "SELECT ticker, min(close) AS min_price, max(close) AS max_price, avg(volume) AS avg_volume\n",
        "FROM historical_stock_prices\n",
        "WHERE YEAR(data)>=2008 AND YEAR(data)<=2018\n",
        "GROUP BY ticker;\n",
        "\n",
        "CREATE TABLE IF NOT EXISTS ticker_first_last_data AS\n",
        "SELECT ticker, min(TO_DATE(data)) AS first_data, max(TO_DATE(data)) AS last_data\n",
        "FROM historical_stock_prices\n",
        "WHERE YEAR(data)>=2008 AND YEAR(data)<=2018\n",
        "GROUP BY ticker;\n",
        "\n",
        "CREATE TABLE IF NOT EXISTS ticker_close_first_data AS\n",
        "SELECT h.ticker, h.data, h.close AS first_price\n",
        "FROM ticker_first_last_data AS t\n",
        "JOIN historical_stock_prices AS h\n",
        "ON h.ticker=t.ticker AND h.data=t.first_data;\n",
        "\n",
        "CREATE TABLE IF NOT EXISTS ticker_close_last_data AS\n",
        "SELECT h.ticker, h.data, h.close AS last_price\n",
        "FROM ticker_first_last_data AS t\n",
        "JOIN historical_stock_prices AS h\n",
        "ON h.ticker=t.ticker AND h.data=t.last_data;\n",
        "\n",
        "CREATE TABLE IF NOT EXISTS ticker_percentage AS\n",
        "SELECT fc.ticker, (((lc.last_price-fc.first_price)/fc.first_price) * 100) AS inc_per\n",
        "FROM ticker_close_last_data AS lc\n",
        "JOIN ticker_close_first_data AS fc\n",
        "ON lc.ticker=fc.ticker;\n",
        "\n",
        "CREATE TABLE IF NOT EXISTS result_job_1 AS \n",
        "SELECT t.ticker, p.inc_per, t.min_price, t.max_price, t.avg_volume\n",
        "FROM ticker_min_max_avg AS t\n",
        "JOIN ticker_percentage AS p\n",
        "ON t.ticker=p.ticker \n",
        "ORDER BY p.inc_per DESC limit 10;\n",
        "```"
      ]
    },
    {
      "cell_type": "markdown",
      "metadata": {
        "colab_type": "text",
        "id": "7SvyuEtIL5yj"
      },
      "source": [
        "### 3.3 Spark"
      ]
    },
    {
      "cell_type": "markdown",
      "metadata": {
        "colab_type": "text",
        "id": "z4kd81-6PtBN"
      },
      "source": [
        "**Implementazione Spark**\n",
        "\n",
        "\n",
        "```python\n",
        "\n",
        "main_table: (ticker, open, close, adj_close, lowThe, highThe, volume, date)\n",
        "\n",
        "main_table.persist(StorageLevel.MEMORY_AND_DISK)\n",
        "\n",
        "#(ticker, min_close)\n",
        "min_ticker_close = main_table \\\n",
        "    .map(line -> (ticker, close)) \\\n",
        "    .reduceByKey(min(close))\n",
        "\n",
        "#(ticker, max_close)\n",
        "max_ticker_close = main_table \\\n",
        "    .map(line -> (ticker, close)) \\\n",
        "    .reduceByKey(max(close))\n",
        "\n",
        "#(ticker, avg_volume)\n",
        "avg_ticker_volume = main_table \\\n",
        "    .map(line -> (ticker, (volume, 1))) \\\n",
        "    .reduceByKey((sum_volume), count) \\\n",
        "    .map(line -> (ticker, (sum_volume / count)))\n",
        "\n",
        "# (ticker, (close, first_data))\n",
        "first_data_close = main_table \\\n",
        "    .map(line -> (ticker, (close, date))) \\\n",
        "    .reduceByKey(min(date))\n",
        "\n",
        "# (ticker, (close, last_data))\n",
        "last_data_close = main_table \\\n",
        "    .map(line -> (ticker, (close, date))) \\\n",
        "    .reduceByKey(max(date))\n",
        "\n",
        "# (ticker, ((close, first_data), (close, last_data)))\n",
        "join_inc_per = first_data_close.join(last_data_close)\n",
        "\n",
        "# (ticker, inc_per)\n",
        "inc_per = join_inc_per \\\n",
        "    .map(line -> (ticker, (((last_close - first_close) / first_close) * 100)))\n",
        "\n",
        "# (ticker, (((min, max), avg), inc_prc))\n",
        "result = min_ticker_low \\\n",
        "    .join(max_ticker_high) \\\n",
        "    .join(avg_ticker_volume) \\\n",
        "    .join(inc_per) \\\n",
        "    .sortBy(ticker) \\\n",
        "    .map(line -> {\"ticker\": ticker,\n",
        "                  \"min_price\": min_price,\n",
        "                  \"max_price\": max_price,\n",
        "                  \"average_volume\": average_volume,\n",
        "                  \"increase_percent\": increase_percent})\n",
        "\n",
        "result.coalesce(1).saveAsTextFile(\"file:///<path>/<file>\")\n",
        "```\n",
        "\n",
        "\n",
        "\n",
        "\n",
        "\n",
        "\n",
        "\n"
      ]
    },
    {
      "cell_type": "markdown",
      "metadata": {
        "colab_type": "text",
        "id": "6haEuBMmL-dt"
      },
      "source": [
        "### 3.4 Risultati"
      ]
    },
    {
      "cell_type": "markdown",
      "metadata": {
        "id": "_kqFSJ7shska",
        "colab_type": "text"
      },
      "source": [
        "Si mostra ora l'output restituito per il primo job:\n",
        "\n",
        "<br>\n",
        "\n",
        "\n",
        "Ticker|Variazione percentuale|Min|Max|Volume medio\n",
        ":-------:|:-----:||:-------:|:-----:|\n",
        "CTZ|120300.00231%|0.00499999988824|26.7299995422|52052.2675097\n",
        "SAB|110428.769954%|1.39849996567|318800.0|1695843.19004\n",
        "WP|62125.8040042%|0.0500000007451|96.4499969482|1521133.15375\n",
        "HMI|17899.3373828%|0.00860999990255|22.9099998474|335224.160078\n",
        "PJT|16837.1427968%|0.0450000017881|10947.2001953|87650.1165182\n",
        "MRNS|13852.3698384%|0.0415700003505|118.599998474|431270.206566\n",
        "BHF|13245.1608431%|0.0209999997169|70.0|888734.91092\n",
        "SLGL|12838.77616%|0.0010000000475|13.6400003433|318063.080844\n",
        "BSM|11192.5669223%|0.0466700010002|19.5499992371|10629280.2865\n",
        "ERI|10955.5558484%|0.00499999988824|49.75|405980.691818\n",
        "NFLX|9432.22008418%|2.56285715103|418.970001221|20664584.2596\n",
        "VER|9111.76451923%|0.00499999988824|17.8199996948|5167510.82112\n",
        "\n",
        "<br>"
      ]
    },
    {
      "cell_type": "markdown",
      "metadata": {
        "colab_type": "text",
        "id": "CE4tis5XMB_k"
      },
      "source": [
        "### 3.5 Grafici"
      ]
    },
    {
      "cell_type": "code",
      "metadata": {
        "colab_type": "code",
        "id": "d7AXPrPETNA-",
        "outputId": "74e38933-8d13-4747-ade5-91634ce768f5",
        "colab": {}
      },
      "source": [
        "draw_plot(1)"
      ],
      "execution_count": 0,
      "outputs": [
        {
          "output_type": "display_data",
          "data": {
            "image/png": "[encoded data removed]",
            "text/plain": [
              "<Figure size 1080x360 with 2 Axes>"
            ]
          },
          "metadata": {
            "tags": [],
            "needs_background": "light"
          }
        }
      ]
    },
    {
      "cell_type": "markdown",
      "metadata": {
        "colab_type": "text",
        "id": "I-ivZXdGLi5G"
      },
      "source": [
        "# 4. Secondo job"
      ]
    },
    {
      "cell_type": "markdown",
      "metadata": {
        "colab_type": "text",
        "id": "JfLYa42bLyo9"
      },
      "source": [
        "### 4.1 Map Reduce"
      ]
    },
    {
      "cell_type": "markdown",
      "metadata": {
        "colab_type": "text",
        "id": "wgv5cEnMLyo_"
      },
      "source": [
        "Un job che sia in grado di generare, per ciascun settore, il relativo “trend” nel periodo 2008-2018 ovvero un elenco contenete, per ciascun anno nell’intervallo: (a) il volume annuale1 medio delle azioni del settore, (b) la variazione annuale2 media delle aziende del settore e (c) la quotazione giornaliera media delle aziende del settore."
      ]
    },
    {
      "cell_type": "markdown",
      "metadata": {
        "colab_type": "text",
        "id": "AAqgsRw4ZKzU"
      },
      "source": [
        "**Config**\n",
        "\n",
        "\n"
      ]
    },
    {
      "cell_type": "markdown",
      "metadata": {
        "id": "6xcdmXowtBRX",
        "colab_type": "text"
      },
      "source": [
        "```\n",
        "-D stream.num.map.output.key.fields=3 \n",
        "-D mapreduce.partition.keypartitioner.options=-k1,1 \n",
        "-D mapreduce.job.reduces=1\n",
        "```\n",
        "\n"
      ]
    },
    {
      "cell_type": "markdown",
      "metadata": {
        "colab_type": "text",
        "id": "WfLB2T46LypA"
      },
      "source": [
        "**Mapper**\n",
        "\n",
        "In fase di mapping andiamo a estrarre da due file differenti i record di interesse. In particolare dal file caricato su Hadoop estraiamo i campi *ticker*, *close*, *volume*, *date*, mentre dal file che leggiamo direttamente dal nostro IDE estraiamo i campi *ticker* e *sector*.\n",
        "Le chiavi che vengono usate in questo secondo job sono 3: *sector*, *ticker* e *date*.\n"
      ]
    },
    {
      "cell_type": "markdown",
      "metadata": {
        "id": "Apib1e8DtO1a",
        "colab_type": "text"
      },
      "source": [
        "```python\n",
        "class Mapper:\n",
        "\n",
        "  extract ticker, sector from localFile\n",
        "\n",
        "  for line in input\n",
        "    extract ticker, close, volume, date\n",
        "\n",
        "    if year in (2008,2018)\n",
        "      send to reducer sector, ticker, date, close, volume\n",
        "```\n",
        "\n"
      ]
    },
    {
      "cell_type": "markdown",
      "metadata": {
        "colab_type": "text",
        "id": "L1BfraB5LypE"
      },
      "source": [
        "**Reducer**\n",
        "\n",
        "In fase di reducing, dopo aver estratto i valori passati dal mapper, andiamo a calcolare i punti definiti nell'hw."
      ]
    },
    {
      "cell_type": "markdown",
      "metadata": {
        "id": "Gnh6Y8I5tnHO",
        "colab_type": "text"
      },
      "source": [
        "\n",
        "\n",
        "```python\n",
        "class Reducer:\n",
        "\n",
        "  result = dict of objects Result\n",
        "\n",
        "  for line in mapper output\n",
        "    \n",
        "    extract sector, ticker, year, close, volume\n",
        "  \n",
        "    if first_iteration:\n",
        "          inizialize variables()\n",
        "    else:\n",
        "\n",
        "      if not (sector, ticker, year) changed:\n",
        "        increase_temporary_variables()\n",
        "\n",
        "      else:\n",
        "\n",
        "        if sector changed:\n",
        "          create new sector\n",
        "\n",
        "        add_sector_to_result()\n",
        "        restore_temporary_variables()\n",
        "\n",
        "    update_local_variables()\n",
        "\n",
        "  if current_sector:\n",
        "    add_sector_to_result()\n",
        "  \n",
        "  print result\n",
        "```\n",
        "\n"
      ]
    },
    {
      "cell_type": "markdown",
      "metadata": {
        "colab_type": "text",
        "id": "jf08JbtYLypK"
      },
      "source": [
        "### 4.2 Hive"
      ]
    },
    {
      "cell_type": "markdown",
      "metadata": {
        "colab_type": "text",
        "id": "hnN19qs2me-b"
      },
      "source": [
        "**Implementazione Hive**\n",
        "\n",
        "---\n",
        "\n",
        "```\n",
        "ticker_data_volume(sector, ticker, anno, sum_volume) \n",
        "```\n",
        "\n",
        ">**sum_volume**: *Volume totale di un ticker in un anno*\n",
        "\n",
        "<br>\n",
        "\n",
        "```\n",
        "sector_data_avg_volume(sector, anno, avg_volume ) \n",
        "```\n",
        "\n",
        ">**avg_volume**: *Volume annuale medio delle azioni del settore*\n",
        "\n",
        "<br>\n",
        "\n",
        "```\n",
        "ticker_first_last_data_year(sector, ticker, first_data, last_data) \n",
        "```\n",
        "\n",
        ">**first_data**: *La prima data in cui è stato quotato il ticker in un anno*\n",
        "<br>\n",
        ">**last_data**: *L'ultima data in cui è stato quotato il ticker in un anno*\n",
        "\n",
        "<br>\n",
        " \n",
        "```\n",
        "ticker_close_first_data(sector, ticker, data, first_price) \n",
        "```\n",
        "\n",
        ">**first_price**: *Primo valore di chiusura in un anno*\n",
        "\n",
        "<br>\n",
        " \n",
        "```\n",
        "ticker_close_last_data(sector, ticker, data, last_price) \n",
        "```\n",
        "\n",
        ">**last_price**: *Ultimo valore di chiusura in un anno*\n",
        "\n",
        "<br>\n",
        "\n",
        "```\n",
        "ticker_percentage(sector, ticker, anno, inc_per) \n",
        "```\n",
        "\n",
        ">**inc_per**: *Variazione della quotazione nell'anno(((last_price-first_price)/first_price)x100)*\n",
        "\n",
        "<br>\n",
        "\n",
        "```\n",
        "sector_avg_percentage(sector, anno, avg_per) \n",
        "```\n",
        "\n",
        ">**avg_per**: *La variazione annuale media delle aziende del settore in un anno*\n",
        "\n",
        "<br>\n",
        "\n",
        "```\n",
        "ticker_avg_price(sector, ticker, anno, avg_ticker_price) \n",
        "```\n",
        "\n",
        ">**avg_ticker_price**: *La quotazione giornaliera media del ticker in un anno*\n",
        "\n",
        "<br>\n",
        " \n",
        "```\n",
        "sector_avg_price(sector, anno, avg_sector_price) \n",
        "```\n",
        "\n",
        ">**avg_sector_price**: *La quotazione giornaliera media delle aziende del settore in un anno*\n"
      ]
    },
    {
      "cell_type": "markdown",
      "metadata": {
        "colab_type": "text",
        "id": "KZKwJ6tnm6Ht"
      },
      "source": [
        "```sql\n",
        "CREATE TABLE IF NOT EXISTS main_table AS \n",
        "SELECT hs.sector, hsp.ticker, hsp.data, hsp.close, hsp.volume \n",
        "FROM historical_stock AS hs \n",
        "JOIN historical_stock_prices AS hsp \n",
        "ON hsp.ticker=hs.ticker \n",
        "WHERE YEAR(hsp.data)>=2008 AND YEAR(hsp.data)<=2018 \n",
        "AND hs.sector!='N/A';\n",
        "\n",
        "CREATE TABLE IF NOT EXISTS ticker_data_volume AS \n",
        "SELECT sector, ticker, YEAR(data) AS anno, SUM(volume) AS sum_volume \n",
        "FROM main_table \n",
        "GROUP BY sector, ticker, YEAR(data);\n",
        "\n",
        "CREATE TABLE IF NOT EXISTS sector_data_avg_volume AS \n",
        "SELECT sector, anno, AVG(sum_volume) AS avg_volume \n",
        "FROM ticker_data_volume \n",
        "GROUP BY sector, anno;\n",
        "\n",
        "CREATE TABLE IF NOT EXISTS ticker_first_last_data_year AS \n",
        "SELECT sector, ticker, min(TO_DATE(data)) AS first_data, max(TO_DATE(data)) AS last_data \n",
        "FROM main_table \n",
        "GROUP BY sector, ticker, YEAR(data);\n",
        "\n",
        "CREATE TABLE IF NOT EXISTS ticker_close_first_data AS \n",
        "SELECT t.sector, h.ticker, h.data, h.close AS first_price\n",
        "FROM ticker_first_last_data_year AS t\n",
        "JOIN historical_stock_prices AS h \n",
        "ON h.ticker=t.ticker AND h.data=t.first_data;\n",
        "\n",
        "CREATE TABLE IF NOT EXISTS ticker_close_last_data AS \n",
        "SELECT t.sector, h.ticker, h.data, h.close AS last_price\n",
        "FROM ticker_first_last_data_year AS t\n",
        "JOIN historical_stock_prices AS h \n",
        "ON h.ticker=t.ticker AND h.data=t.last_data;\n",
        "\n",
        "CREATE TABLE IF NOT EXISTS ticker_percentage AS \n",
        "SELECT fc.sector, fc.ticker, YEAR(fc.data) as anno, (((lc.last_price-fc.first_price)/fc.first_price) * 100) AS inc_per \n",
        "FROM ticker_close_last_data AS lc\n",
        "JOIN ticker_close_first_data AS fc\n",
        "ON lc.ticker=fc.ticker AND YEAR(lc.data)=YEAR(fc.data);\n",
        "\n",
        "CREATE TABLE IF NOT EXISTS sector_avg_percentage AS \n",
        "SELECT sector, anno, AVG(inc_per) AS avg_per\n",
        "FROM ticker_percentage\n",
        "GROUP BY sector, anno;\n",
        "\n",
        "CREATE TABLE IF NOT EXISTS ticker_avg_price AS\n",
        "SELECT sector, ticker, YEAR(data) AS anno, AVG(close) AS avg_ticker_price\n",
        "FROM main_table\n",
        "GROUP BY sector, ticker, YEAR(data);\n",
        "\n",
        "CREATE TABLE IF NOT EXISTS sector_avg_price AS\n",
        "SELECT sector, anno, AVG(avg_ticker_price) AS avg_sector_price\n",
        "FROM ticker_avg_price\n",
        "GROUP BY sector, anno;\n",
        "\n",
        "CREATE TABLE IF NOT EXISTS result_job_2 AS \n",
        "SELECT a.sector, a.anno, a.avg_volume, b.avg_per, c.avg_sector_price \n",
        "FROM sector_data_avg_volume AS a\n",
        "JOIN sector_avg_percentage AS b\n",
        "JOIN sector_avg_price AS c \n",
        "ON a.sector=b.sector AND b.sector=c.sector AND a.anno=b.anno AND b.anno=c.anno\n",
        "ORDER BY sector, anno;\n",
        "\n",
        "```"
      ]
    },
    {
      "cell_type": "markdown",
      "metadata": {
        "colab_type": "text",
        "id": "9V9RX7ppLypQ"
      },
      "source": [
        "### 4.3 Spark"
      ]
    },
    {
      "cell_type": "markdown",
      "metadata": {
        "colab_type": "text",
        "id": "BWSxUp3-LypQ"
      },
      "source": [
        "**Implementazione Spark**\n",
        "\n",
        "\n",
        "```python\n",
        "# (ticker, ((close, volume, date), sector))\n",
        "main_table = input_file \\\n",
        "    .map(line -> (ticker, (close, volume, date))) \\\n",
        "    .join(input_file_2.map(line -> (ticker, (sector))))\n",
        "\n",
        "# (ticker, close, volume, date, sector)\n",
        "main_table = main_table \\\n",
        "    .map(line -> (ticker, close, volume, date, sector))\n",
        "\n",
        "# persist RDD in memory\n",
        "main_table.persist(StorageLevel.MEMORY_AND_DISK)\n",
        "\n",
        "# ((sector, year), avg_volume)\n",
        "avg_volume = main_table \\\n",
        "    .map(line -> ((sector, year), (volume, 1))) \\\n",
        "    .reduceByKey(sum_volume, count) \\\n",
        "    .map(line -> ((sector, year), sum_volume/count))\n",
        "\n",
        "# ((sector, ticker, year), (first_date_close, close)))\n",
        "first_data = main_table \\\n",
        "    .map(line -> ((sector, ticker, year)), (date, close))) \\\n",
        "    .reduceByKey(min(date))\n",
        "\n",
        "# ((sector, ticker, year), (last_date_close, close)))\n",
        "last_data = main_table \\\n",
        "    .map(line -> ((sector, ticker, year)), (date, close))) \\\n",
        "    .reduceByKey(max(date))\n",
        "\n",
        "# ((sector, ticker, year), ((first_date_close, close), (last_date_close, close)))\n",
        "year_change = first_data.join(last_data)\n",
        "\n",
        "# ((sector, ticker, year), var)\n",
        "year_change = year_change \\\n",
        "    .map(line -> ((sector, ticker, year), \n",
        "    ((last_date_close - first_date_close)/first_date_close)*100))\n",
        "\n",
        "# ((sector, year), avg_var)\n",
        "year_change = year_change \\\n",
        "    .map(line -> ((sector, year), (close, 1))) \\\n",
        "    .reduceByKey(sum_close, count) \\\n",
        "    .map(line -> ((sector, year), sum_close / count))\n",
        "\n",
        "# ((sector, ticker, year), avg_close)\n",
        "daily_price = main_table \\\n",
        "    .map(line -> ((sector, ticker, year), (close, 1))) \\\n",
        "    .reduceByKey(sum_close, count) \\\n",
        "    .map(line -> ((sector, ticker, year), sum_close / count))\n",
        "\n",
        "# ((sector, year), avg_avg_close)\n",
        "daily_price = main_table \\\n",
        "    .map(line -> ((sector, ticker, year), (avg_close, 1))) \\\n",
        "    .reduceByKey(avg_close, count) \\\n",
        "    .map(line -> ((sector, ticker, year), avg_close / count))\n",
        "\n",
        "# ((sector, year), ((avg_volume, year_change), avg_avg_close))\n",
        "result = avg_volume.join(year_change).join(daily_price)\n",
        "\n",
        "# (sector, year, avg_volume, year_change, avg_avg_close)\n",
        "result = result \\\n",
        "    .map(line -> (sector, year, avg_volume, year_change, avg_avg_close)\n",
        "\n",
        "result.coalesce(1).saveAsTextFile(\"file:///<path>/<file>\")\n",
        "```\n",
        "\n",
        "\n",
        "\n",
        "\n",
        "\n",
        "\n",
        "\n",
        "\n"
      ]
    },
    {
      "cell_type": "markdown",
      "metadata": {
        "colab_type": "text",
        "id": "VRDw4sdlLypW"
      },
      "source": [
        "### 4.4 Risultati"
      ]
    },
    {
      "cell_type": "markdown",
      "metadata": {
        "id": "XXW7L49BhznQ",
        "colab_type": "text"
      },
      "source": [
        ""
      ]
    },
    {
      "cell_type": "markdown",
      "metadata": {
        "colab_type": "text",
        "id": "ZNXD1llIhz4i"
      },
      "source": [
        "Si mostra ora l'output restituito per il primo job:\n",
        "\n",
        "<br>\n",
        "\n",
        "\n",
        "|Ticker|Variazione percentuale|Min|Max|Volume medio|\n",
        "|:-------:|:-----:||:-------:|:-----:|\n",
        "|MNST|163340.387616%|0.0305979158729|70.2200012207|7347898.8208|\n",
        "|MNST|163340.387616%|0.0305979158729|70.2200012207|7347898.8208|\n",
        "|MNST|163340.387616%|0.0305979158729|70.2200012207|7347898.8208|\n",
        "|MNST|163340.387616%|0.0305979158729|70.2200012207|7347898.8208|\n",
        "|MNST|163340.387616%|0.0305979158729|70.2200012207|7347898.8208|\n",
        "|MNST|163340.387616%|0.0305979158729|70.2200012207|7347898.8208|\n",
        "|MNST|163340.387616%|0.0305979158729|70.2200012207|7347898.8208|\n",
        "|MNST|163340.387616%|0.0305979158729|70.2200012207|7347898.8208|\n",
        "\n",
        "<br>"
      ]
    },
    {
      "cell_type": "markdown",
      "metadata": {
        "colab_type": "text",
        "id": "_gavCgchLypX"
      },
      "source": [
        "### 4.5 Grafici"
      ]
    },
    {
      "cell_type": "code",
      "metadata": {
        "colab_type": "code",
        "id": "P3uqmpXDLypX",
        "outputId": "79cae297-5fba-495b-f8b4-5930d86ca206",
        "colab": {}
      },
      "source": [
        "draw_plot(2)"
      ],
      "execution_count": 0,
      "outputs": [
        {
          "output_type": "display_data",
          "data": {
            "image/png": "[encoded data removed]",
            "text/plain": [
              "<Figure size 1080x360 with 2 Axes>"
            ]
          },
          "metadata": {
            "tags": [],
            "needs_background": "light"
          }
        }
      ]
    },
    {
      "cell_type": "markdown",
      "metadata": {
        "colab_type": "text",
        "id": "szJFoEVEMDEP"
      },
      "source": [
        "# 5. Terzo job"
      ]
    },
    {
      "cell_type": "markdown",
      "metadata": {
        "colab_type": "text",
        "id": "YBGaJxuWMLOY"
      },
      "source": [
        "### 5.1 Map Reduce"
      ]
    },
    {
      "cell_type": "markdown",
      "metadata": {
        "colab_type": "text",
        "id": "v59pzXixMLOb"
      },
      "source": [
        "Un job in grado di generare gruppi di aziende le cui azioni hanno avuto lo stesso trend in termini di variazione annuale nell’ultimo triennio disponibile, indicando le aziende e il trend comune (es. {Apple, Intel, Amazon}: 2016:-1%, 2017:+3%, 2018:+5%)."
      ]
    },
    {
      "cell_type": "markdown",
      "metadata": {
        "colab_type": "text",
        "id": "RICRmYO7dUOh"
      },
      "source": [
        "**Config**\n",
        "\n",
        "\n"
      ]
    },
    {
      "cell_type": "markdown",
      "metadata": {
        "id": "wbvkqKn8Zcb3",
        "colab_type": "text"
      },
      "source": [
        "\n",
        "\n",
        "```\n",
        "-D stream.num.map.output.key.fields=2\n",
        "-D mapreduce.partition.keypartitioner.options=-k1,1\n",
        "-D mapreduce.job.reduces=1\n",
        "-partitioner org.apache.hadoop.mapred.lib.KeyFieldBasedPartitioner\n",
        "```\n",
        "\n"
      ]
    },
    {
      "cell_type": "markdown",
      "metadata": {
        "colab_type": "text",
        "id": "LF1Cq77GZnLf"
      },
      "source": [
        "\n",
        "\n",
        "```\n",
        "-D stream.num.map.output.key.fields=3\n",
        "-D mapreduce.job.reduces=1\n",
        "```\n",
        "\n"
      ]
    },
    {
      "cell_type": "markdown",
      "metadata": {
        "colab_type": "text",
        "id": "AskVXmMnMLOc"
      },
      "source": [
        "**Mapper 1**\n",
        "\n",
        "\n",
        "In fase di mapping andiamo a estrarre da due file differenti i record di interesse. In particolare dal primo estraiamo i campi *ticker*, *close*, *date*, mentre dal secondo estraiamo i campi *ticker* e *name*.\n",
        "Le chiavi che vengono usate in questo secondo job sono 2: *sector*, *date*."
      ]
    },
    {
      "cell_type": "markdown",
      "metadata": {
        "id": "eNWc_qLqZOIT",
        "colab_type": "text"
      },
      "source": [
        "```python\n",
        "class Mapper:\n",
        "\n",
        "  extract ticker, name from localFile\n",
        "\n",
        "  for line in input\n",
        "    extract ticker, close, date\n",
        "\n",
        "    if year in (2016,2018)\n",
        "      send to reducer1 ticker, date, close, name\n",
        "```\n",
        "\n"
      ]
    },
    {
      "cell_type": "markdown",
      "metadata": {
        "colab_type": "text",
        "id": "S9XYNZupMLOf"
      },
      "source": [
        "**Reducer 1**\n",
        "\n",
        "In fase di reducing, dopo aver estratto i valori passati dal mapper, andiamo a calcolare i punti definiti nell'hw; in particolare per il calcolo del volume abbiamo creato un oggetto(avgVolume) per semplificarci il calcolo."
      ]
    },
    {
      "cell_type": "markdown",
      "metadata": {
        "id": "J0PysP0vZ1zh",
        "colab_type": "text"
      },
      "source": [
        "```python\n",
        "class Reducer1:\n",
        "\n",
        "    extract ticker, date, close, name\n",
        "\n",
        "    if first_iteration:\n",
        "        initialize_variables()\n",
        "\n",
        "    else:\n",
        "        if current_ticker == ticker and current_year == year:\n",
        "            last_close_ticker_year = close\n",
        "        else:\n",
        "            add_trend_to_company()\n",
        "\n",
        "            if current_ticker != ticker:\n",
        "                result.append(current_company)\n",
        "                current_company = Company(name)\n",
        "\n",
        "            initialize_variables(ticker, year, close)\n",
        "\n",
        "```\n",
        "\n"
      ]
    },
    {
      "cell_type": "markdown",
      "metadata": {
        "colab_type": "text",
        "id": "14B2lbZ_TMtK"
      },
      "source": [
        "**Mapper 2**\n",
        "\n",
        "Questo secondo mapper l'unica cosa che va a fare è leggere l'output del primo reducer da Hadoop e lo va a passare al secondo reducer"
      ]
    },
    {
      "cell_type": "markdown",
      "metadata": {
        "id": "PbGxB2uJZt-n",
        "colab_type": "text"
      },
      "source": [
        "\n",
        "\n",
        "```python\n",
        "for line in input\n",
        "  send line to reducer2 \n",
        "```\n",
        "\n"
      ]
    },
    {
      "cell_type": "markdown",
      "metadata": {
        "colab_type": "text",
        "id": "is48UAf8TSDL"
      },
      "source": [
        "**Reducer 2**\n",
        "\n",
        "In fase di reducing, dopo aver estratto i valori passati dal mapper2, andiamo a calcolare i punti definiti nell'hw; in particolare per il calcolo del volume abbiamo creato un oggetto(avgVolume) per semplificarci il calcolo."
      ]
    },
    {
      "cell_type": "markdown",
      "metadata": {
        "id": "yIwONMqxZ6Xb",
        "colab_type": "text"
      },
      "source": [
        "```python\n",
        "class Reducer2:\n",
        "\n",
        "    extract first_year, second_year, third_year, name\n",
        "\n",
        "    if first_iteration:\n",
        "        initialize_variables(first_year, second_year, third_year)\n",
        "        else:\n",
        "            if trend like current_trend:\n",
        "                result.append(trend)\n",
        "            else:\n",
        "                print_trend()\n",
        "                result = [trend]\n",
        "                initialize_variables(first_year, second_year, third_year)\n",
        "\n",
        "```\n",
        "\n"
      ]
    },
    {
      "cell_type": "markdown",
      "metadata": {
        "colab_type": "text",
        "id": "rRTjMtJAMLOi"
      },
      "source": [
        "### 5.2 Hive"
      ]
    },
    {
      "cell_type": "markdown",
      "metadata": {
        "colab_type": "text",
        "id": "67jvOxvXnBpz"
      },
      "source": [
        "**Implementazione Hive**\n",
        "\n",
        "---\n",
        "\n",
        "```\n",
        "ticker_first_last_data_year(sector, ticker, first_data, last_data) \n",
        "```\n",
        "\n",
        ">**first_data**: *La prima data in cui è stato quotato il ticker in un anno*\n",
        "<br>\n",
        ">**last_data**: *L'ultima data in cui è stato quotato il ticker in un anno*\n",
        "\n",
        "<br>\n",
        " \n",
        "```\n",
        "ticker_close_first_data(sector, ticker, data, first_price) \n",
        "```\n",
        "\n",
        ">**first_price**: *Primo valore di chiusura in un anno*\n",
        "\n",
        "<br>\n",
        " \n",
        "```\n",
        "ticker_close_last_data(sector, ticker, data, last_price) \n",
        "```\n",
        "\n",
        ">**last_price**: *Ultimo valore di chiusura in un anno*\n",
        "\n",
        "<br>\n",
        "\n",
        "```\n",
        "ticker_percentage(sector, ticker, anno, inc_per) \n",
        "```\n",
        "\n",
        ">**inc_per**: *Variazione della quotazione nell'anno(((last_price-first_price)/first_price)x100)*\n",
        "\n",
        "<br>\n",
        "\n",
        "---\n",
        "\n",
        "```\n",
        "first_year(name, inc_per) \n",
        "```\n",
        "\n",
        ">**inc_per**: *Variazione della quotazione nel primo anno*\n",
        "\n",
        "<br>\n",
        "\n",
        "---\n",
        "\n",
        "```\n",
        "second_year(name, inc_per) \n",
        "```\n",
        "\n",
        ">**inc_per**: *Variazione della quotazione nel secondo anno*\n",
        "\n",
        "<br>\n",
        "\n",
        "---\n",
        "\n",
        "```\n",
        "third_year(name, inc_per) \n",
        "```\n",
        "\n",
        ">**inc_per**: *Variazione della quotazione nel terzo anno*\n",
        "\n",
        "<br>\n",
        "\n",
        "---\n",
        "\n",
        "```\n",
        "result_job_3(name, primo, secondo, terzo) \n",
        "```\n",
        "\n",
        ">**primo**: *Variazione della quotazione nel primo anno*\n",
        "<br>\n",
        ">**secondo**: *Variazione della quotazione nel secondo anno*\n",
        "<br>\n",
        ">**terzo**: *Variazione della quotazione nel terzo anno*\n",
        "\n",
        "<br>\n",
        "\n",
        "---\n",
        "\n",
        "```\n",
        "SELECT collect_set(name), primo, secondo, terzo\n",
        "FROM result_job_3 \n",
        "GROUP BY primo, secondo, terzo;\n",
        "```\n",
        "\n",
        "> *La query genera liste di aziende aventi lo stesso trend nei tre anni*\n",
        "\n",
        "<br>"
      ]
    },
    {
      "cell_type": "markdown",
      "metadata": {
        "colab_type": "text",
        "id": "jE8pEo5unBp0"
      },
      "source": [
        "```sql\n",
        "CREATE TABLE IF NOT EXISTS main_table AS \n",
        "SELECT hs.name, hsp.ticker, hsp.data, hsp.close\n",
        "FROM historical_stock AS hs \n",
        "JOIN historical_stock_prices AS hsp \n",
        "ON hsp.ticker=hs.ticker \n",
        "WHERE YEAR(hsp.data)>=2016 AND YEAR(hsp.data)<=2018 \n",
        "AND hs.name!='N/A';\n",
        "\n",
        "CREATE TABLE IF NOT EXISTS ticker_first_last_data_year AS \n",
        "SELECT name, ticker, min(TO_DATE(data)) AS first_data, max(TO_DATE(data)) AS last_data \n",
        "FROM main_table \n",
        "GROUP BY name, ticker, YEAR(data);\n",
        "\n",
        "CREATE TABLE IF NOT EXISTS ticker_close_first_data AS \n",
        "SELECT t.name, h.ticker, h.data, h.close AS first_price\n",
        "FROM ticker_first_last_data_year AS t\n",
        "JOIN historical_stock_prices AS h \n",
        "ON h.ticker=t.ticker AND h.data=t.first_data;\n",
        "\n",
        "CREATE TABLE IF NOT EXISTS ticker_close_last_data AS \n",
        "SELECT t.name, h.ticker, h.data, h.close AS last_price\n",
        "FROM ticker_first_last_data_year AS t\n",
        "JOIN historical_stock_prices AS h \n",
        "ON h.ticker=t.ticker AND h.data=t.last_data;\n",
        "\n",
        "CREATE TABLE IF NOT EXISTS ticker_percentage AS \n",
        "SELECT fc.name, fc.ticker, YEAR(fc.data) as anno, (((lc.last_price-fc.first_price)/fc.first_price) * 100) AS inc_per \n",
        "FROM ticker_close_last_data AS lc\n",
        "JOIN ticker_close_first_data AS fc\n",
        "ON lc.ticker=fc.ticker AND YEAR(lc.data)=YEAR(fc.data);\n",
        "\n",
        "CREATE TABLE IF NOT EXISTS first_year AS \n",
        "SELECT name, inc_per\n",
        "FROM ticker_percentage\n",
        "WHERE anno == 2016\n",
        "ORDER BY name;\n",
        "\n",
        "CREATE TABLE IF NOT EXISTS second_year AS \n",
        "SELECT name, inc_per\n",
        "FROM ticker_percentage\n",
        "WHERE anno == 2017\n",
        "ORDER BY name;\n",
        "\n",
        "CREATE TABLE IF NOT EXISTS third_year AS \n",
        "SELECT name, inc_per\n",
        "FROM ticker_percentage\n",
        "WHERE anno == 2018\n",
        "ORDER BY name;\n",
        "\n",
        "CREATE TABLE IF NOT EXISTS result_job_3 AS\n",
        "SELECT first_year.name, first_year.inc_per AS primo, second_year.inc_per AS secondo, third_year.inc_per AS terzo\n",
        "FROM first_year, second_year, third_year\n",
        "WHERE first_year.name = second_year.name AND second_year.name = third_year.name\n",
        "ORDER BY primo, secondo, terzo;\n",
        "\n",
        "SELECT collect_set(name), primo, secondo, terzo\n",
        "FROM result_job_3 \n",
        "GROUP BY primo, secondo, terzo;\n",
        "\n",
        "```"
      ]
    },
    {
      "cell_type": "markdown",
      "metadata": {
        "colab_type": "text",
        "id": "uj0t3NoHMLOl"
      },
      "source": [
        "### 5.3 Spark"
      ]
    },
    {
      "cell_type": "markdown",
      "metadata": {
        "colab_type": "text",
        "id": "w-MIYTz1MLOo"
      },
      "source": [
        "**Implementazione Spark**\n",
        "\n",
        "**Implementazione Spark**\n",
        "\n",
        "\n",
        "```python\n",
        "# (ticker, ((close, date), name))\n",
        "main_table = input_file \\\n",
        "    .map(line -> (ticker, (close, date))) \\\n",
        "    .join(input_file_2.map(line -> (ticker, (name))))\n",
        "\n",
        "# (ticker, close, date, name)\n",
        "main_table = main_table \\\n",
        "    .map(line -> (ticker, close, date, name))\n",
        "\n",
        "# persist RDD in memory\n",
        "main_table.persist(StorageLevel.MEMORY_AND_DISK)\n",
        "\n",
        "# ((name, ticker, year), (first_date_close, close)))\n",
        "first_data = main_table \\\n",
        "    .map(line -> ((name, ticker, year)), (date, close))) \\\n",
        "    .reduceByKey(min(date))\n",
        "\n",
        "# ((name, ticker, year), (last_date_close, close)))\n",
        "last_data = main_table \\\n",
        "    .map(line -> ((name, ticker, year)), (date, close))) \\\n",
        "    .reduceByKey(max(date))\n",
        "\n",
        "# ((sector, ticker, year), ((first_date_close, close), (last_date_close, close)))\n",
        "year_change = first_data.join(last_data)\n",
        "\n",
        "# ((name, ticker, year), var)\n",
        "year_change = year_change \\\n",
        "    .map(line -> ((name, ticker, year), \n",
        "    ((last_date_close - first_date_close)/first_date_close)*100))\n",
        "\n",
        "# (name, [(year_1, var), (year_2, var), (year_3, var)])\n",
        "year_change = year_change \\\n",
        "    .map(line -> (name, [(year, var)])) \\\n",
        "    .reduceByKey((year_1, var).concat((year_2, var)))\n",
        "\n",
        "# ((var_1, var_2, var_3), [name])\n",
        "year_change = year_change \\\n",
        "    .map(line -> (((var_1, var_2, var_3), [name])))\n",
        "\n",
        "# ((var_1, var_2, var_3), [name_1, name_2, ...])\n",
        "year_change = year_change \\\n",
        "    .reduceByKey([name_1].concat(name_2))\n",
        "\n",
        "result.coalesce(1).saveAsTextFile(\"file:///<path>/<file>\")\n",
        "```\n"
      ]
    },
    {
      "cell_type": "markdown",
      "metadata": {
        "colab_type": "text",
        "id": "iZY6I6U0MLOs"
      },
      "source": [
        "### 5.4 Risultati"
      ]
    },
    {
      "cell_type": "markdown",
      "metadata": {
        "id": "YnXnjeVsh3Bm",
        "colab_type": "text"
      },
      "source": [
        ""
      ]
    },
    {
      "cell_type": "markdown",
      "metadata": {
        "colab_type": "text",
        "id": "0XpaCjy_h3Oi"
      },
      "source": [
        "Si mostra ora l'output restituito per il primo job:\n",
        "\n",
        "<br>\n",
        "\n",
        "\n",
        "|Ticker|Variazione percentuale|Min|Max|Volume medio|\n",
        "|:-------:|:-----:||:-------:|:-----:|\n",
        "|MNST|163340.387616%|0.0305979158729|70.2200012207|7347898.8208|\n",
        "|MNST|163340.387616%|0.0305979158729|70.2200012207|7347898.8208|\n",
        "|MNST|163340.387616%|0.0305979158729|70.2200012207|7347898.8208|\n",
        "|MNST|163340.387616%|0.0305979158729|70.2200012207|7347898.8208|\n",
        "|MNST|163340.387616%|0.0305979158729|70.2200012207|7347898.8208|\n",
        "|MNST|163340.387616%|0.0305979158729|70.2200012207|7347898.8208|\n",
        "|MNST|163340.387616%|0.0305979158729|70.2200012207|7347898.8208|\n",
        "|MNST|163340.387616%|0.0305979158729|70.2200012207|7347898.8208|\n",
        "\n",
        "<br>"
      ]
    },
    {
      "cell_type": "markdown",
      "metadata": {
        "colab_type": "text",
        "id": "TUgDGaOGMLOt"
      },
      "source": [
        "### 5.5 Grafici"
      ]
    },
    {
      "cell_type": "code",
      "metadata": {
        "colab_type": "code",
        "id": "IxQbfSk9MLOt",
        "outputId": "bcd634f6-1b9d-4e93-e807-7abf92dd611e",
        "colab": {
          "base_uri": "https://localhost:8080/",
          "height": 232
        }
      },
      "source": [
        "draw_plot(3)"
      ],
      "execution_count": 0,
      "outputs": [
        {
          "output_type": "display_data",
          "data": {
            "image/png": "[encoded data removed]",
            "text/plain": [
              "<Figure size 1080x360 with 2 Axes>"
            ]
          },
          "metadata": {
            "tags": [],
            "needs_background": "light"
          }
        }
      ]
    }
  ]
}