{
 "cells": [
  {
   "cell_type": "markdown",
   "metadata": {
    "colab_type": "text",
    "id": "eY54s4xJJyeH"
   },
   "source": [
    "# **Relazione finale**\n",
    "\n",
    "**Gruppo**: BigCovid\n",
    "\n",
    "**Componenti del gruppo**: Alessio Verdolini, Federico Gaglio\n"
   ]
  },
  {
   "cell_type": "markdown",
   "metadata": {
    "colab_type": "text",
    "id": "9EkFKU-fKOwg"
   },
   "source": [
    "1. **Analisi del dataset**\n",
    "\n",
    "\n",
    "2. **Primo job**\n",
    "\n",
    "  2.1 *MapReduce*\n",
    "  \n",
    "  2.2 *Hive*\n",
    "\n",
    "  2.3 *Spark*\n",
    "\n",
    "  2.4 *Risultati*\n",
    "\n",
    "  2.5 *Grafici*\n",
    "  \n",
    "\n",
    "3. **Secondo job**\n",
    "\n",
    "  3.1 *MapReduce*\n",
    "\n",
    "  3.2 *Hive*\n",
    "\n",
    "  3.3 *Spark*\n",
    "\n",
    "  3.4 *Risultati*\n",
    "\n",
    "  3.5 *Grafici*\n",
    "  \n",
    "\n",
    "4. **Terzo job**\n",
    "\n",
    "  4.1 *MapReduce*\n",
    "\n",
    "  4.2 *Hive*\n",
    "\n",
    "  4.3 *Spark*\n",
    "\n",
    "  4.4 *Risultati*\n",
    "\n",
    "  4.5 *Grafici*"
   ]
  },
  {
   "cell_type": "markdown",
   "metadata": {
    "colab_type": "text",
    "id": "3_aWQFFaKmQB"
   },
   "source": [
    "## 1. Analisi del dataset"
   ]
  },
  {
   "cell_type": "markdown",
   "metadata": {
    "colab_type": "text",
    "id": "A4X_apcCLRAr"
   },
   "source": [
    "## 2. Primo job"
   ]
  },
  {
   "cell_type": "markdown",
   "metadata": {
    "colab_type": "text",
    "id": "6-VqYcxiLbRD"
   },
   "source": [
    "### 2.1 Map Reduce"
   ]
  },
  {
   "cell_type": "markdown",
   "metadata": {
    "colab_type": "text",
    "id": "P3zsh-00MVvW"
   },
   "source": [
    "Un job che sia in grado di generare le statistiche di ciascuna azione tra il 2008 e il 2018 indicando, per ogni azione: (a) il simbolo, (b) la variazione della quotazione (differenza percentuale arrotondata tra i prezzi di chiusura iniziale e finale dell’intervallo temporale), (c) il prezzo minimo, (e) quello massimo e (f) il volume medio nell’intervallo, ordinando l’elenco in ordine decrescente di variazione della quotazione."
   ]
  },
  {
   "cell_type": "markdown",
   "metadata": {
    "colab_type": "text",
    "id": "aehhdGReMjk3"
   },
   "source": [
    "**Mapper**\n",
    "\n",
    "\n",
    "In fase di mapping estraiamo da ciascun record i campi *ticker*, *date*, *close*, *volume* e andiamo a usare i primi due campi come chiavi: *ticker* come chiave primaria usata per aggregare i dati da passare al reducer e *date* per effettuare l'ordinamento secondario sui valori delle date."
   ]
  },
  {
   "cell_type": "code",
   "execution_count": null,
   "metadata": {
    "colab": {},
    "colab_type": "code",
    "id": "AW2bhaklM1VU"
   },
   "outputs": [],
   "source": [
    "#PSEUDO MAPPER\n",
    "\n",
    "class mapper:\n",
    "  for line in file.csv\n",
    "    extract ticker, close, volume, date from file.csv\n",
    "    if 2008 <= year <= 2018\n",
    "      send to reducer ticker, data, close, volume"
   ]
  },
  {
   "cell_type": "markdown",
   "metadata": {
    "colab_type": "text",
    "id": "F5DBfL0RNreM"
   },
   "source": [
    "**Reducer**\n",
    "\n",
    "In fase di reducing, dopo aver estratto i valori passati dal mapper, andiamo a calcolare i punti definiti nell'hw; in particolare per il calcolo del volume abbiamo creato un oggetto(avgVolume) per semplificarci il calcolo."
   ]
  },
  {
   "cell_type": "code",
   "execution_count": null,
   "metadata": {
    "colab": {},
    "colab_type": "code",
    "id": "SjWDtXqkNreS"
   },
   "outputs": [],
   "source": [
    "#TODO\n"
   ]
  },
  {
   "cell_type": "markdown",
   "metadata": {
    "colab_type": "text",
    "id": "feSqmC19LrGR"
   },
   "source": [
    "### 2.2 Hive"
   ]
  },
  {
   "cell_type": "markdown",
   "metadata": {
    "colab_type": "text",
    "id": "Osbq94IkOtMb"
   },
   "source": [
    "**Implementazione Hive**\n",
    "\n",
    "In fase di mapping estrapoliamo innanzitutto da ciascun record i campi ticker, close, low, high, volume e date.\n",
    "Successivamente verifichiamo che il record sia relativo ad un anno che ricada nell'intervallo 1998-2018, per poi stampare la chiave i valori associati alla chiave. In particolare la chiave è composta da due campi: ticker, usata come chiave \"primaria\", e date usata come chiave \"secondaria\".\n",
    "In questo modo valori che verranno ricevuti dal reducer saranno aggregati per il solo campo ticker e ordinati in base al campo date (si parla in questo caso di secondary sort). Questo consentirà nella fase di reduce di evitare comparazioni tra date (per trovare la data più recente e quella meno recente) ai fini del calcolo della differenza percentuale.\n",
    "Il valore associato alla chiave è invece composto dai campi close, low, high e volume."
   ]
  },
  {
   "cell_type": "code",
   "execution_count": null,
   "metadata": {
    "colab": {},
    "colab_type": "code",
    "id": "vGCdN1G5O0jI"
   },
   "outputs": [],
   "source": [
    "CREATE VIEW IF NOT EXISTS ticker_min_max_avg AS \n",
    "SELECT ticker, min(close) AS min_price, max(close) AS max_price, avg(volume) AS avg_volume "
   ]
  },
  {
   "cell_type": "markdown",
   "metadata": {
    "colab_type": "text",
    "id": "7SvyuEtIL5yj"
   },
   "source": [
    "### 2.3 Spark"
   ]
  },
  {
   "cell_type": "markdown",
   "metadata": {
    "colab_type": "text",
    "id": "z4kd81-6PtBN"
   },
   "source": [
    "**Implementazione Spark**\n",
    "\n",
    "In fase di mapping estrapoliamo innanzitutto da ciascun record i campi ticker, close, low, high, volume e date.\n",
    "Successivamente verifichiamo che il record sia relativo ad un anno che ricada nell'intervallo 1998-2018, per poi stampare la chiave i valori associati alla chiave. In particolare la chiave è composta da due campi: ticker, usata come chiave \"primaria\", e date usata come chiave \"secondaria\".\n",
    "In questo modo valori che verranno ricevuti dal reducer saranno aggregati per il solo campo ticker e ordinati in base al campo date (si parla in questo caso di secondary sort). Questo consentirà nella fase di reduce di evitare comparazioni tra date (per trovare la data più recente e quella meno recente) ai fini del calcolo della differenza percentuale.\n",
    "Il valore associato alla chiave è invece composto dai campi close, low, high e volume."
   ]
  },
  {
   "cell_type": "code",
   "execution_count": null,
   "metadata": {
    "colab": {},
    "colab_type": "code",
    "id": "DDg96A7fPtBP"
   },
   "outputs": [],
   "source": [
    "#!/usr/bin/env python\n",
    "import sys\n",
    "\n",
    "# constant for fields position\n",
    "TICKER = 0\n",
    "DATE = 1\n",
    "CLOSE = 2\n",
    "VOLUME = 3\n",
    "  "
   ]
  },
  {
   "cell_type": "markdown",
   "metadata": {
    "colab_type": "text",
    "id": "6haEuBMmL-dt"
   },
   "source": [
    "### 2.4 Risultati\n",
    "\n",
    "\n",
    "\n",
    "Si mostra ora l'output restituito per il primo job:\n",
    "\n",
    "\n",
    "```\n",
    "Ticker Percent Change Min low          Max high\t   Average volume\n",
    "MNST  163340.387616%  0.0305979158729  70.2200012207  7347898.8208\n",
    "AMZN  38328.032677%   4.14583349228    1925.0         7868702.73287\n",
    "AAPL  37146.0319467%  0.482142865658   219.179992676  121398558.199\n",
    "CTSH  36312.8011611%  0.145833328366   85.0999984741  6272137.93307\n",
    "CELG  24924.0000849%  0.171875         147.169998169  8002695.57352\n",
    "WP    24012.4988778%  0.0500000007451  96.5100021362  1270066.16934\n",
    "MED   13733.2303561%  0.0936999991536  229.199996948  223768.309139\n",
    "NVR   11786.7001488%  21.625           3700.0         56463.7413395\n",
    "ANSS  10077.1432059%  1.375            184.949996948  482841.405197\n",
    "TSCO  9508.67816472%  0.40625          97.25          1592298.53705\n",
    "```"
   ]
  },
  {
   "cell_type": "markdown",
   "metadata": {
    "colab_type": "text",
    "id": "CE4tis5XMB_k"
   },
   "source": [
    "### 2.5 Grafici"
   ]
  },
  {
   "cell_type": "code",
   "execution_count": null,
   "metadata": {
    "colab": {
     "base_uri": "https://localhost:8080/",
     "height": 295
    },
    "colab_type": "code",
    "id": "d7AXPrPETNA-",
    "outputId": "07a96090-589d-4dba-b2c0-4f6a19d7f043"
   },
   "outputs": [],
   "source": [
    "import matplotlib\n",
    "import matplotlib.pyplot as plt\n",
    "import numpy as np\n",
    "\n",
    "# Data for plotting\n",
    "t = np.arange(0.0, 2.0, 0.01)\n",
    "s = 1 + np.sin(2 * np.pi * t)\n",
    "\n",
    "fig, ax = plt.subplots()\n",
    "ax.plot(t, s)\n",
    "\n",
    "ax.set(xlabel='time (s)', ylabel='voltage (mV)',\n",
    "       title='About as simple as it gets, folks')\n",
    "ax.grid()\n",
    "\n",
    "fig.savefig(\"test.png\")\n",
    "plt.show()"
   ]
  },
  {
   "cell_type": "markdown",
   "metadata": {
    "colab_type": "text",
    "id": "I-ivZXdGLi5G"
   },
   "source": [
    "## 3. Secondo job"
   ]
  },
  {
   "cell_type": "markdown",
   "metadata": {
    "colab_type": "text",
    "id": "JfLYa42bLyo9"
   },
   "source": [
    "### 3.1 Map Reduce"
   ]
  },
  {
   "cell_type": "markdown",
   "metadata": {
    "colab_type": "text",
    "id": "wgv5cEnMLyo_"
   },
   "source": [
    "Un job che sia in grado di generare, per ciascun settore, il relativo “trend” nel periodo 2008-2018 ovvero un elenco contenete, per ciascun anno nell’intervallo: (a) il volume annuale1 medio delle azioni del settore, (b) la variazione annuale2 media delle aziende del settore e (c) la quotazione giornaliera media delle aziende del settore."
   ]
  },
  {
   "cell_type": "markdown",
   "metadata": {
    "colab_type": "text",
    "id": "WfLB2T46LypA"
   },
   "source": [
    "**Mapper**\n",
    "\n",
    "In fase di mapping andiamo a estrarre da due file differenti i record di interesse. In particolare dal file caricato su Hadoop estraiamo i campi *ticker*, *close*, *volume*, *date*, mentre dal file che leggiamo direttamente dal nostro IDE estraiamo i campi *ticker* e *sector*.\n",
    "Le chiavi che vengono usate in questo secondo job sono 3: *sector*, *ticker* e *date*.\n"
   ]
  },
  {
   "cell_type": "code",
   "execution_count": null,
   "metadata": {
    "colab": {},
    "colab_type": "code",
    "id": "dfHnW9KWLypA"
   },
   "outputs": [],
   "source": [
    "#PSEUDO MAPPER\n",
    "\n",
    "class mapper:\n",
    "  for line in localFile\n",
    "    extract ticker, sector\n",
    "\n",
    "\n",
    "  for line in file on Hadoop\n",
    "    extract ticker, close, volume, date from file on Hadoop\n",
    "    if 2008 <= year <= 2018\n",
    "      send to reducer sector, ticker, date, close, volume"
   ]
  },
  {
   "cell_type": "markdown",
   "metadata": {
    "colab_type": "text",
    "id": "L1BfraB5LypE"
   },
   "source": [
    "**Reducer**\n",
    "\n",
    "In fase di reducing, dopo aver estratto i valori passati dal mapper, andiamo a calcolare i punti definiti nell'hw; in particolare per il calcolo dei dati di interesse siamo andati a definire 3 oggetti differenti."
   ]
  },
  {
   "cell_type": "code",
   "execution_count": null,
   "metadata": {
    "colab": {},
    "colab_type": "code",
    "id": "aXDQBJYyLypF"
   },
   "outputs": [],
   "source": [
    "#TODO\n",
    "  "
   ]
  },
  {
   "cell_type": "markdown",
   "metadata": {
    "colab_type": "text",
    "id": "jf08JbtYLypK"
   },
   "source": [
    "### 3.2 Hive"
   ]
  },
  {
   "cell_type": "markdown",
   "metadata": {
    "colab_type": "text",
    "id": "iwt88TuGLypK"
   },
   "source": [
    "**Implementazione Hive**\n",
    "\n",
    "In fase di mapping estrapoliamo innanzitutto da ciascun record i campi ticker, close, low, high, volume e date.\n",
    "Successivamente verifichiamo che il record sia relativo ad un anno che ricada nell'intervallo 1998-2018, per poi stampare la chiave i valori associati alla chiave. In particolare la chiave è composta da due campi: ticker, usata come chiave \"primaria\", e date usata come chiave \"secondaria\".\n",
    "In questo modo valori che verranno ricevuti dal reducer saranno aggregati per il solo campo ticker e ordinati in base al campo date (si parla in questo caso di secondary sort). Questo consentirà nella fase di reduce di evitare comparazioni tra date (per trovare la data più recente e quella meno recente) ai fini del calcolo della differenza percentuale.\n",
    "Il valore associato alla chiave è invece composto dai campi close, low, high e volume."
   ]
  },
  {
   "cell_type": "code",
   "execution_count": null,
   "metadata": {
    "colab": {},
    "colab_type": "code",
    "id": "4ni2Wnt9LypL"
   },
   "outputs": [],
   "source": [
    "CREATE VIEW IF NOT EXISTS ticker_min_max_avg AS \n",
    "SELECT ticker, min(close) AS min_price, max(close) AS max_price, avg(volume) AS avg_volume "
   ]
  },
  {
   "cell_type": "markdown",
   "metadata": {
    "colab_type": "text",
    "id": "9V9RX7ppLypQ"
   },
   "source": [
    "### 3.3 Spark"
   ]
  },
  {
   "cell_type": "markdown",
   "metadata": {
    "colab_type": "text",
    "id": "BWSxUp3-LypQ"
   },
   "source": [
    "**Implementazione Spark**\n",
    "\n",
    "In fase di mapping estrapoliamo innanzitutto da ciascun record i campi ticker, close, low, high, volume e date.\n",
    "Successivamente verifichiamo che il record sia relativo ad un anno che ricada nell'intervallo 1998-2018, per poi stampare la chiave i valori associati alla chiave. In particolare la chiave è composta da due campi: ticker, usata come chiave \"primaria\", e date usata come chiave \"secondaria\".\n",
    "In questo modo valori che verranno ricevuti dal reducer saranno aggregati per il solo campo ticker e ordinati in base al campo date (si parla in questo caso di secondary sort). Questo consentirà nella fase di reduce di evitare comparazioni tra date (per trovare la data più recente e quella meno recente) ai fini del calcolo della differenza percentuale.\n",
    "Il valore associato alla chiave è invece composto dai campi close, low, high e volume."
   ]
  },
  {
   "cell_type": "code",
   "execution_count": null,
   "metadata": {
    "colab": {},
    "colab_type": "code",
    "id": "ufYjOTVELypR"
   },
   "outputs": [],
   "source": [
    "#!/usr/bin/env python\n",
    "import sys\n",
    "\n",
    "# constant for fields position\n",
    "TICKER = 0\n",
    "DATE = 1\n",
    "CLOSE = 2\n",
    "VOLUME = 3\n",
    "  "
   ]
  },
  {
   "cell_type": "markdown",
   "metadata": {
    "colab_type": "text",
    "id": "VRDw4sdlLypW"
   },
   "source": [
    "### 3.4 Risultati\n",
    "\n",
    "\n",
    "\n",
    "Si mostra ora l'output restituito per il primo job:\n",
    "\n",
    "\n",
    "```\n",
    "Ticker Percent Change Min low          Max high\t   Average volume\n",
    "MNST  163340.387616%  0.0305979158729  70.2200012207  7347898.8208\n",
    "AMZN  38328.032677%   4.14583349228    1925.0         7868702.73287\n",
    "AAPL  37146.0319467%  0.482142865658   219.179992676  121398558.199\n",
    "CTSH  36312.8011611%  0.145833328366   85.0999984741  6272137.93307\n",
    "CELG  24924.0000849%  0.171875         147.169998169  8002695.57352\n",
    "WP    24012.4988778%  0.0500000007451  96.5100021362  1270066.16934\n",
    "MED   13733.2303561%  0.0936999991536  229.199996948  223768.309139\n",
    "NVR   11786.7001488%  21.625           3700.0         56463.7413395\n",
    "ANSS  10077.1432059%  1.375            184.949996948  482841.405197\n",
    "TSCO  9508.67816472%  0.40625          97.25          1592298.53705\n",
    "```"
   ]
  },
  {
   "cell_type": "markdown",
   "metadata": {
    "colab_type": "text",
    "id": "_gavCgchLypX"
   },
   "source": [
    "### 3.5 Grafici"
   ]
  },
  {
   "cell_type": "code",
   "execution_count": null,
   "metadata": {
    "colab": {
     "base_uri": "https://localhost:8080/",
     "height": 295
    },
    "colab_type": "code",
    "id": "P3uqmpXDLypX",
    "outputId": "07a96090-589d-4dba-b2c0-4f6a19d7f043"
   },
   "outputs": [],
   "source": [
    "import matplotlib\n",
    "import matplotlib.pyplot as plt\n",
    "import numpy as np\n",
    "\n",
    "# Data for plotting\n",
    "t = np.arange(0.0, 2.0, 0.01)\n",
    "s = 1 + np.sin(2 * np.pi * t)\n",
    "\n",
    "fig, ax = plt.subplots()\n",
    "ax.plot(t, s)\n",
    "\n",
    "ax.set(xlabel='time (s)', ylabel='voltage (mV)',\n",
    "       title='About as simple as it gets, folks')\n",
    "ax.grid()\n",
    "\n",
    "fig.savefig(\"test.png\")\n",
    "plt.show()"
   ]
  },
  {
   "cell_type": "markdown",
   "metadata": {
    "colab_type": "text",
    "id": "szJFoEVEMDEP"
   },
   "source": [
    "## 4. Terzo job"
   ]
  },
  {
   "cell_type": "markdown",
   "metadata": {
    "colab_type": "text",
    "id": "YBGaJxuWMLOY"
   },
   "source": [
    "### 4.1 Map Reduce"
   ]
  },
  {
   "cell_type": "markdown",
   "metadata": {
    "colab_type": "text",
    "id": "v59pzXixMLOb"
   },
   "source": [
    "Un job in grado di generare gruppi di aziende le cui azioni hanno avuto lo stesso trend in termini di variazione annuale nell’ultimo triennio disponibile, indicando le aziende e il trend comune (es. {Apple, Intel, Amazon}: 2016:-1%, 2017:+3%, 2018:+5%)."
   ]
  },
  {
   "cell_type": "markdown",
   "metadata": {
    "colab_type": "text",
    "id": "AskVXmMnMLOc"
   },
   "source": [
    "**Mapper 1**\n",
    "\n",
    "\n",
    "In fase di mapping andiamo a estrarre da due file differenti i record di interesse. In particolare dal file caricato su Hadoop estraiamo i campi *ticker*, *close*, *date*, mentre dal file che leggiamo direttamente dal nostro IDE estraiamo i campi *ticker* e *name*.\n",
    "Le chiavi che vengono usate in questo secondo job sono 2: *sector*, *date*."
   ]
  },
  {
   "cell_type": "code",
   "execution_count": null,
   "metadata": {
    "colab": {},
    "colab_type": "code",
    "id": "icBI4r8AMLOc"
   },
   "outputs": [],
   "source": [
    "#PSEUDO MAPPER1\n",
    "\n",
    "class mapper:\n",
    "  for line in localFile\n",
    "    extract ticker, name\n",
    "\n",
    "\n",
    "  for line in file on Hadoop\n",
    "    extract ticker, close, date from file on Hadoop\n",
    "    if 2016 <= year <= 2018\n",
    "      send to reducer ticker, date, close, name\n",
    "\n"
   ]
  },
  {
   "cell_type": "markdown",
   "metadata": {
    "colab_type": "text",
    "id": "S9XYNZupMLOf"
   },
   "source": [
    "**Reducer 1**\n",
    "\n",
    "In fase di reducing, dopo aver estratto i valori passati dal mapper, andiamo a calcolare i punti definiti nell'hw; in particolare per il calcolo del volume abbiamo creato un oggetto(avgVolume) per semplificarci il calcolo."
   ]
  },
  {
   "cell_type": "code",
   "execution_count": null,
   "metadata": {
    "colab": {},
    "colab_type": "code",
    "id": "Xj65R84QMLOf"
   },
   "outputs": [],
   "source": [
    "#TODO\n"
   ]
  },
  {
   "cell_type": "markdown",
   "metadata": {
    "colab_type": "text",
    "id": "14B2lbZ_TMtK"
   },
   "source": [
    "**Mapper 2**\n",
    "\n",
    "Questo secondo mapper l'unica cosa che va a fare è leggere l'output del primo reducer da Hadoop e lo va a passare al secondo reducer"
   ]
  },
  {
   "cell_type": "markdown",
   "metadata": {
    "colab_type": "text",
    "id": "is48UAf8TSDL"
   },
   "source": [
    "**Reducer 2**\n",
    "\n",
    "In fase di reducing, dopo aver estratto i valori passati dal mapper2, andiamo a calcolare i punti definiti nell'hw; in particolare per il calcolo del volume abbiamo creato un oggetto(avgVolume) per semplificarci il calcolo."
   ]
  },
  {
   "cell_type": "code",
   "execution_count": null,
   "metadata": {
    "colab": {},
    "colab_type": "code",
    "id": "fSIicXFgTbt3"
   },
   "outputs": [],
   "source": [
    "#TODO"
   ]
  },
  {
   "cell_type": "markdown",
   "metadata": {
    "colab_type": "text",
    "id": "rRTjMtJAMLOi"
   },
   "source": [
    "### 4.2 Hive"
   ]
  },
  {
   "cell_type": "markdown",
   "metadata": {
    "colab_type": "text",
    "id": "CpmFscfdMLOi"
   },
   "source": [
    "**Implementazione Hive**\n",
    "\n",
    "In fase di mapping estrapoliamo innanzitutto da ciascun record i campi ticker, close, low, high, volume e date.\n",
    "Successivamente verifichiamo che il record sia relativo ad un anno che ricada nell'intervallo 1998-2018, per poi stampare la chiave i valori associati alla chiave. In particolare la chiave è composta da due campi: ticker, usata come chiave \"primaria\", e date usata come chiave \"secondaria\".\n",
    "In questo modo valori che verranno ricevuti dal reducer saranno aggregati per il solo campo ticker e ordinati in base al campo date (si parla in questo caso di secondary sort). Questo consentirà nella fase di reduce di evitare comparazioni tra date (per trovare la data più recente e quella meno recente) ai fini del calcolo della differenza percentuale.\n",
    "Il valore associato alla chiave è invece composto dai campi close, low, high e volume."
   ]
  },
  {
   "cell_type": "code",
   "execution_count": null,
   "metadata": {
    "colab": {},
    "colab_type": "code",
    "id": "2GMX6hYoMLOi"
   },
   "outputs": [],
   "source": [
    "CREATE VIEW IF NOT EXISTS ticker_min_max_avg AS \n",
    "SELECT ticker, min(close) AS min_price, max(close) AS max_price, avg(volume) AS avg_volume "
   ]
  },
  {
   "cell_type": "markdown",
   "metadata": {
    "colab_type": "text",
    "id": "uj0t3NoHMLOl"
   },
   "source": [
    "### 4.3 Spark"
   ]
  },
  {
   "cell_type": "markdown",
   "metadata": {
    "colab_type": "text",
    "id": "w-MIYTz1MLOo"
   },
   "source": [
    "**Implementazione Spark**\n",
    "\n",
    "In fase di mapping estrapoliamo innanzitutto da ciascun record i campi ticker, close, low, high, volume e date.\n",
    "Successivamente verifichiamo che il record sia relativo ad un anno che ricada nell'intervallo 1998-2018, per poi stampare la chiave i valori associati alla chiave. In particolare la chiave è composta da due campi: ticker, usata come chiave \"primaria\", e date usata come chiave \"secondaria\".\n",
    "In questo modo valori che verranno ricevuti dal reducer saranno aggregati per il solo campo ticker e ordinati in base al campo date (si parla in questo caso di secondary sort). Questo consentirà nella fase di reduce di evitare comparazioni tra date (per trovare la data più recente e quella meno recente) ai fini del calcolo della differenza percentuale.\n",
    "Il valore associato alla chiave è invece composto dai campi close, low, high e volume."
   ]
  },
  {
   "cell_type": "code",
   "execution_count": null,
   "metadata": {
    "colab": {},
    "colab_type": "code",
    "id": "83gJa9LIMLOp"
   },
   "outputs": [],
   "source": [
    "#!/usr/bin/env python\n",
    "import sys\n",
    "\n",
    "# constant for fields position\n",
    "TICKER = 0\n",
    "DATE = 1\n",
    "CLOSE = 2\n",
    "VOLUME = 3\n",
    "  "
   ]
  },
  {
   "cell_type": "markdown",
   "metadata": {
    "colab_type": "text",
    "id": "iZY6I6U0MLOs"
   },
   "source": [
    "### 4.4 Risultati\n",
    "\n",
    "\n",
    "\n",
    "Si mostra ora l'output restituito per il primo job:\n",
    "\n",
    "\n",
    "```JSON\n",
    "{\n",
    "    settore1:{\n",
    "        2008:{x, y, z},\n",
    "        2008:{x, y, z},\n",
    "        2008:{x, y, z},\n",
    "        2008:{x, y, z},\n",
    "        2008:{x, y, z},\n",
    "        2008:{x, y, z},\n",
    "        2008:{x, y, z},\n",
    "    },\n",
    "    settore1:{\n",
    "        2008:{x, y, z},\n",
    "        2008:{x, y, z},\n",
    "        2008:{x, y, z},\n",
    "        2008:{x, y, z},\n",
    "        2008:{x, y, z},\n",
    "        2008:{x, y, z},\n",
    "        2008:{x, y, z},\n",
    "    }\n",
    "}\n",
    "```"
   ]
  },
  {
   "cell_type": "markdown",
   "metadata": {
    "colab_type": "text",
    "id": "TUgDGaOGMLOt"
   },
   "source": [
    "### 4.5 Grafici"
   ]
  },
  {
   "cell_type": "code",
   "execution_count": 83,
   "metadata": {
    "colab": {
     "base_uri": "https://localhost:8080/",
     "height": 232
    },
    "colab_type": "code",
    "id": "IxQbfSk9MLOt",
    "outputId": "bcd634f6-1b9d-4e93-e807-7abf92dd611e"
   },
   "outputs": [
    {
     "data": {
      "image/png": "[encoded data removed]",
      "text/plain": [
       "<Figure size 1080x360 with 2 Axes>"
      ]
     },
     "metadata": {
      "needs_background": "light"
     },
     "output_type": "display_data"
    }
   ],
   "source": [
    "import matplotlib\n",
    "import matplotlib.pyplot as plt\n",
    "import csv\n",
    "\n",
    "CSV_PATH='time-execute/'\n",
    "\n",
    "\n",
    "def draw_plot(job_number):\n",
    "    LOCAL = CSV_PATH+'local_'+str(job_number)+'.csv'\n",
    "    CLUSTER = CSV_PATH+'cluster_'+str(job_number)+'.csv'\n",
    "    \n",
    "    dataset={}\n",
    "    data_local = {}\n",
    "    data_cluster = {}\n",
    "    \n",
    "    with open(LOCAL,'r') as csvfile:\n",
    "        plots = csv.reader(csvfile, delimiter=',')\n",
    "        for row in plots:\n",
    "            job, *times=row\n",
    "            data_local[job]=[float(x) for x in times]\n",
    "        dataset[0] = {\n",
    "            'name': \"Locale\",\n",
    "            'time': data_local\n",
    "        }\n",
    "    \n",
    "    with open(CLUSTER,'r') as csvfile:\n",
    "        plots = csv.reader(csvfile, delimiter=',')\n",
    "        for row in plots:\n",
    "            job, *times=row\n",
    "            data_cluster[job]=[float(x) for x in times]\n",
    "        dataset[1] = {\n",
    "            'name': \"Cluster\",\n",
    "            'time': data_cluster\n",
    "        }\n",
    "        \n",
    "    plot, axs = plt.subplots(1, 2, figsize=(15, 5))\n",
    "\n",
    "    for i in range(0,2):\n",
    "        axs[i].plot(dataset[i]['time']['dim'], dataset[i]['time']['1'], color='tab:blue', marker='o')\n",
    "        axs[i].plot(dataset[i]['time']['dim'], dataset[i]['time']['2'], color='tab:orange', marker='o')\n",
    "        axs[i].plot(dataset[i]['time']['dim'], dataset[i]['time']['3'], color='tab:green', marker='o')\n",
    "        \n",
    "        axs[i].set_title(dataset[i]['name'])\n",
    "        axs[i].set_xlabel('Dimensione (MB)')\n",
    "        axs[i].set_ylabel('Tempo (s)')\n",
    "        axs[i].grid(alpha=0.4)\n",
    "        axs[i].legend(['MapReduce', 'Hive', 'Spark'])\n",
    "    \n",
    "draw_plot(1)"
   ]
  },
  {
   "cell_type": "code",
   "execution_count": null,
   "metadata": {},
   "outputs": [],
   "source": []
  }
 ],
 "metadata": {
  "colab": {
   "collapsed_sections": [
    "A4X_apcCLRAr",
    "feSqmC19LrGR",
    "7SvyuEtIL5yj",
    "CE4tis5XMB_k",
    "I-ivZXdGLi5G"
   ],
   "name": "RelazioneProgetto.ipynb",
   "provenance": [],
   "toc_visible": true
  },
  "kernelspec": {
   "display_name": "Python 3",
   "language": "python",
   "name": "python3"
  },
  "language_info": {
   "codemirror_mode": {
    "name": "ipython",
    "version": 3
   },
   "file_extension": ".py",
   "mimetype": "text/x-python",
   "name": "python",
   "nbconvert_exporter": "python",
   "pygments_lexer": "ipython3",
   "version": "3.8.2"
  }
 },
 "nbformat": 4,
 "nbformat_minor": 1
}
